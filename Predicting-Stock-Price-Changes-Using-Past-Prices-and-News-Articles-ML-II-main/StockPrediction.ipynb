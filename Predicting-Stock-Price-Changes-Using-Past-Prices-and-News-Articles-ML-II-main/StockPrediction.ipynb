{
  "nbformat": 4,
  "nbformat_minor": 0,
  "metadata": {
    "colab": {
      "name": "Stock_Price_Prediction.ipynb",
      "provenance": [],
      "collapsed_sections": []
    },
    "kernelspec": {
      "name": "python3",
      "display_name": "Python 3"
    },
    "language_info": {
      "name": "python"
    }
  },
  "cells": [
    {
      "cell_type": "code",
      "metadata": {
        "id": "pnB5oX67KrWw"
      },
      "source": [
        "# Importing the libraries\n",
        "import pandas as pd\n",
        "import numpy as np\n",
        "import matplotlib.pyplot as plt\n",
        "from matplotlib import style\n",
        "import seaborn as sns\n",
        "from datetime import date\n",
        "from sklearn.preprocessing import MinMaxScaler\n",
        "import math"
      ],
      "execution_count": 22,
      "outputs": []
    },
    {
      "cell_type": "markdown",
      "metadata": {
        "id": "XEs9ti5Zg1ML"
      },
      "source": [
        "Importing Dataset and making required changes to it"
      ]
    },
    {
      "cell_type": "code",
      "metadata": {
        "colab": {
          "resources": {
            "http://localhost:8080/nbextensions/google.colab/files.js": {
              "data": "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",
              "ok": true,
              "headers": [
                [
                  "content-type",
                  "application/javascript"
                ]
              ],
              "status": 200,
              "status_text": ""
            }
          },
          "base_uri": "https://localhost:8080/",
          "height": 290
        },
        "id": "b_yuG7WLLX40",
        "outputId": "350913d2-72f1-494f-b494-26cd8b433be0"
      },
      "source": [
        "# Importing the Facebook stock data\n",
        "from google.colab import files\n",
        "Upload=files.upload()\n",
        "stocks = pd.read_csv('HistoricalData_FB.csv', index_col='Date', parse_dates=['Date'])\n",
        "X = stocks.iloc[: ]\n",
        "stocks.head()"
      ],
      "execution_count": 23,
      "outputs": [
        {
          "output_type": "display_data",
          "data": {
            "text/html": [
              "\n",
              "     <input type=\"file\" id=\"files-f4490f4a-5be0-4713-aba9-38e5846e899d\" name=\"files[]\" multiple disabled\n",
              "        style=\"border:none\" />\n",
              "     <output id=\"result-f4490f4a-5be0-4713-aba9-38e5846e899d\">\n",
              "      Upload widget is only available when the cell has been executed in the\n",
              "      current browser session. Please rerun this cell to enable.\n",
              "      </output>\n",
              "      <script src=\"/nbextensions/google.colab/files.js\"></script> "
            ],
            "text/plain": [
              "<IPython.core.display.HTML object>"
            ]
          },
          "metadata": {
            "tags": []
          }
        },
        {
          "output_type": "stream",
          "text": [
            "Saving HistoricalData_FB.csv to HistoricalData_FB (2).csv\n"
          ],
          "name": "stdout"
        },
        {
          "output_type": "execute_result",
          "data": {
            "text/html": [
              "<div>\n",
              "<style scoped>\n",
              "    .dataframe tbody tr th:only-of-type {\n",
              "        vertical-align: middle;\n",
              "    }\n",
              "\n",
              "    .dataframe tbody tr th {\n",
              "        vertical-align: top;\n",
              "    }\n",
              "\n",
              "    .dataframe thead th {\n",
              "        text-align: right;\n",
              "    }\n",
              "</style>\n",
              "<table border=\"1\" class=\"dataframe\">\n",
              "  <thead>\n",
              "    <tr style=\"text-align: right;\">\n",
              "      <th></th>\n",
              "      <th>Close/Last</th>\n",
              "      <th>Volume</th>\n",
              "      <th>Open</th>\n",
              "      <th>High</th>\n",
              "      <th>Low</th>\n",
              "    </tr>\n",
              "    <tr>\n",
              "      <th>Date</th>\n",
              "      <th></th>\n",
              "      <th></th>\n",
              "      <th></th>\n",
              "      <th></th>\n",
              "      <th></th>\n",
              "    </tr>\n",
              "  </thead>\n",
              "  <tbody>\n",
              "    <tr>\n",
              "      <th>2021-06-09</th>\n",
              "      <td>$330.25</td>\n",
              "      <td>13727950</td>\n",
              "      <td>$335.74</td>\n",
              "      <td>$336.8</td>\n",
              "      <td>$330</td>\n",
              "    </tr>\n",
              "    <tr>\n",
              "      <th>2021-06-08</th>\n",
              "      <td>$333.68</td>\n",
              "      <td>14580460</td>\n",
              "      <td>$336.7</td>\n",
              "      <td>$338.2999</td>\n",
              "      <td>$332.24</td>\n",
              "    </tr>\n",
              "    <tr>\n",
              "      <th>2021-06-07</th>\n",
              "      <td>$336.58</td>\n",
              "      <td>20136710</td>\n",
              "      <td>$329.48</td>\n",
              "      <td>$337.69</td>\n",
              "      <td>$328.93</td>\n",
              "    </tr>\n",
              "    <tr>\n",
              "      <th>2021-06-04</th>\n",
              "      <td>$330.35</td>\n",
              "      <td>13289380</td>\n",
              "      <td>$325.9</td>\n",
              "      <td>$332.455</td>\n",
              "      <td>$325.18</td>\n",
              "    </tr>\n",
              "    <tr>\n",
              "      <th>2021-06-03</th>\n",
              "      <td>$326.04</td>\n",
              "      <td>12610790</td>\n",
              "      <td>$325.78</td>\n",
              "      <td>$327.375</td>\n",
              "      <td>$323.48</td>\n",
              "    </tr>\n",
              "  </tbody>\n",
              "</table>\n",
              "</div>"
            ],
            "text/plain": [
              "           Close/Last    Volume     Open       High      Low\n",
              "Date                                                        \n",
              "2021-06-09    $330.25  13727950  $335.74     $336.8     $330\n",
              "2021-06-08    $333.68  14580460   $336.7  $338.2999  $332.24\n",
              "2021-06-07    $336.58  20136710  $329.48    $337.69  $328.93\n",
              "2021-06-04    $330.35  13289380   $325.9   $332.455  $325.18\n",
              "2021-06-03    $326.04  12610790  $325.78   $327.375  $323.48"
            ]
          },
          "metadata": {
            "tags": []
          },
          "execution_count": 23
        }
      ]
    },
    {
      "cell_type": "code",
      "metadata": {
        "colab": {
          "base_uri": "https://localhost:8080/"
        },
        "id": "17FXzrDacR80",
        "outputId": "ecee2375-c35e-4aee-92f6-2148b4f67702"
      },
      "source": [
        "# Datatypes of all the columns of the stocks dataframe\n",
        "stocks.dtypes"
      ],
      "execution_count": 24,
      "outputs": [
        {
          "output_type": "execute_result",
          "data": {
            "text/plain": [
              "Close/Last    object\n",
              "Volume         int64\n",
              "Open          object\n",
              "High          object\n",
              "Low           object\n",
              "dtype: object"
            ]
          },
          "metadata": {
            "tags": []
          },
          "execution_count": 24
        }
      ]
    },
    {
      "cell_type": "code",
      "metadata": {
        "id": "jesPFLY1WtEy"
      },
      "source": [
        "# Removing $ symbol from Close, Open, High and Low columns to convert them to float values\n",
        "stocks['Close/Last'] = list(map(lambda x: x[1:], stocks['Close/Last'].values))\n",
        "stocks['Open'] = list(map(lambda x: x[1:], stocks['Open'].values))\n",
        "stocks['High'] = list(map(lambda x: x[1:], stocks['High'].values))\n",
        "stocks['Low'] = list(map(lambda x: x[1:], stocks['Low'].values))\n",
        "\n",
        "# Converting the above columns to float dataype\n",
        "stocks['Close/Last'] = stocks['Close/Last'].astype(float)\n",
        "stocks['Open'] = stocks['Open'].astype(float)\n",
        "stocks['High'] = stocks['High'].astype(float)\n",
        "stocks['Low'] = stocks['Low'].astype(float)"
      ],
      "execution_count": 25,
      "outputs": []
    },
    {
      "cell_type": "code",
      "metadata": {
        "colab": {
          "base_uri": "https://localhost:8080/",
          "height": 234
        },
        "id": "4vRkk8qCk6Q2",
        "outputId": "e5d288f6-4df9-415b-8e61-7adfc1f81c84"
      },
      "source": [
        "stocks.head()"
      ],
      "execution_count": 26,
      "outputs": [
        {
          "output_type": "execute_result",
          "data": {
            "text/html": [
              "<div>\n",
              "<style scoped>\n",
              "    .dataframe tbody tr th:only-of-type {\n",
              "        vertical-align: middle;\n",
              "    }\n",
              "\n",
              "    .dataframe tbody tr th {\n",
              "        vertical-align: top;\n",
              "    }\n",
              "\n",
              "    .dataframe thead th {\n",
              "        text-align: right;\n",
              "    }\n",
              "</style>\n",
              "<table border=\"1\" class=\"dataframe\">\n",
              "  <thead>\n",
              "    <tr style=\"text-align: right;\">\n",
              "      <th></th>\n",
              "      <th>Close/Last</th>\n",
              "      <th>Volume</th>\n",
              "      <th>Open</th>\n",
              "      <th>High</th>\n",
              "      <th>Low</th>\n",
              "    </tr>\n",
              "    <tr>\n",
              "      <th>Date</th>\n",
              "      <th></th>\n",
              "      <th></th>\n",
              "      <th></th>\n",
              "      <th></th>\n",
              "      <th></th>\n",
              "    </tr>\n",
              "  </thead>\n",
              "  <tbody>\n",
              "    <tr>\n",
              "      <th>2021-06-09</th>\n",
              "      <td>330.25</td>\n",
              "      <td>13727950</td>\n",
              "      <td>335.74</td>\n",
              "      <td>336.8000</td>\n",
              "      <td>330.00</td>\n",
              "    </tr>\n",
              "    <tr>\n",
              "      <th>2021-06-08</th>\n",
              "      <td>333.68</td>\n",
              "      <td>14580460</td>\n",
              "      <td>336.70</td>\n",
              "      <td>338.2999</td>\n",
              "      <td>332.24</td>\n",
              "    </tr>\n",
              "    <tr>\n",
              "      <th>2021-06-07</th>\n",
              "      <td>336.58</td>\n",
              "      <td>20136710</td>\n",
              "      <td>329.48</td>\n",
              "      <td>337.6900</td>\n",
              "      <td>328.93</td>\n",
              "    </tr>\n",
              "    <tr>\n",
              "      <th>2021-06-04</th>\n",
              "      <td>330.35</td>\n",
              "      <td>13289380</td>\n",
              "      <td>325.90</td>\n",
              "      <td>332.4550</td>\n",
              "      <td>325.18</td>\n",
              "    </tr>\n",
              "    <tr>\n",
              "      <th>2021-06-03</th>\n",
              "      <td>326.04</td>\n",
              "      <td>12610790</td>\n",
              "      <td>325.78</td>\n",
              "      <td>327.3750</td>\n",
              "      <td>323.48</td>\n",
              "    </tr>\n",
              "  </tbody>\n",
              "</table>\n",
              "</div>"
            ],
            "text/plain": [
              "            Close/Last    Volume    Open      High     Low\n",
              "Date                                                      \n",
              "2021-06-09      330.25  13727950  335.74  336.8000  330.00\n",
              "2021-06-08      333.68  14580460  336.70  338.2999  332.24\n",
              "2021-06-07      336.58  20136710  329.48  337.6900  328.93\n",
              "2021-06-04      330.35  13289380  325.90  332.4550  325.18\n",
              "2021-06-03      326.04  12610790  325.78  327.3750  323.48"
            ]
          },
          "metadata": {
            "tags": []
          },
          "execution_count": 26
        }
      ]
    },
    {
      "cell_type": "markdown",
      "metadata": {
        "id": "ErpyCfosgbMf"
      },
      "source": [
        "Finding Missing/Null Values, if any"
      ]
    },
    {
      "cell_type": "code",
      "metadata": {
        "colab": {
          "base_uri": "https://localhost:8080/"
        },
        "id": "WlIsp-z7dQWi",
        "outputId": "754bf533-5c07-4a65-d29d-dd9198084eda"
      },
      "source": [
        "# Checking the total number of null values columnwise\n",
        "stocks.isnull().sum()"
      ],
      "execution_count": 27,
      "outputs": [
        {
          "output_type": "execute_result",
          "data": {
            "text/plain": [
              "Close/Last    0\n",
              "Volume        0\n",
              "Open          0\n",
              "High          0\n",
              "Low           0\n",
              "dtype: int64"
            ]
          },
          "metadata": {
            "tags": []
          },
          "execution_count": 27
        }
      ]
    },
    {
      "cell_type": "markdown",
      "metadata": {
        "id": "kObSNFSHfzg2"
      },
      "source": [
        "Visualizing Year-wise data"
      ]
    },
    {
      "cell_type": "code",
      "metadata": {
        "colab": {
          "base_uri": "https://localhost:8080/",
          "height": 577
        },
        "id": "y93dtuHlP75U",
        "outputId": "f636825e-6cc6-4c6b-a60c-1e41f758eb17"
      },
      "source": [
        "# visualizing the stock closing price (Year-wise)\n",
        "plt.figure(figsize=(16,9))\n",
        "style.use('ggplot')\n",
        "plt.plot(stocks['Close/Last'])\n",
        "plt.title(\"Facebook closing Price History in USD($)\", fontsize = 20)\n",
        "plt.xlabel(\"Date\", fontsize = 15)\n",
        "plt.ylabel(\"Closing Price($)\", fontsize = 15)\n",
        "plt.show()"
      ],
      "execution_count": 28,
      "outputs": [
        {
          "output_type": "display_data",
          "data": {
            "image/png": "[encoded data removed]",
            "text/plain": [
              "<Figure size 1152x648 with 1 Axes>"
            ]
          },
          "metadata": {
            "tags": []
          }
        }
      ]
    },
    {
      "cell_type": "markdown",
      "metadata": {
        "id": "l8n5-QWa6b9s"
      },
      "source": [
        "visualizing Month-wise data "
      ]
    },
    {
      "cell_type": "code",
      "metadata": {
        "id": "8CNbNlHSPLYy",
        "colab": {
          "base_uri": "https://localhost:8080/",
          "height": 417
        },
        "outputId": "4e47cab8-5bd2-4f7f-bc23-c21e38427228"
      },
      "source": [
        "stocks = pd.read_csv('HistoricalData_FB.csv', parse_dates=['Date'])\n",
        "stocks"
      ],
      "execution_count": 29,
      "outputs": [
        {
          "output_type": "execute_result",
          "data": {
            "text/html": [
              "<div>\n",
              "<style scoped>\n",
              "    .dataframe tbody tr th:only-of-type {\n",
              "        vertical-align: middle;\n",
              "    }\n",
              "\n",
              "    .dataframe tbody tr th {\n",
              "        vertical-align: top;\n",
              "    }\n",
              "\n",
              "    .dataframe thead th {\n",
              "        text-align: right;\n",
              "    }\n",
              "</style>\n",
              "<table border=\"1\" class=\"dataframe\">\n",
              "  <thead>\n",
              "    <tr style=\"text-align: right;\">\n",
              "      <th></th>\n",
              "      <th>Date</th>\n",
              "      <th>Close/Last</th>\n",
              "      <th>Volume</th>\n",
              "      <th>Open</th>\n",
              "      <th>High</th>\n",
              "      <th>Low</th>\n",
              "    </tr>\n",
              "  </thead>\n",
              "  <tbody>\n",
              "    <tr>\n",
              "      <th>0</th>\n",
              "      <td>2021-06-09</td>\n",
              "      <td>$330.25</td>\n",
              "      <td>13727950</td>\n",
              "      <td>$335.74</td>\n",
              "      <td>$336.8</td>\n",
              "      <td>$330</td>\n",
              "    </tr>\n",
              "    <tr>\n",
              "      <th>1</th>\n",
              "      <td>2021-06-08</td>\n",
              "      <td>$333.68</td>\n",
              "      <td>14580460</td>\n",
              "      <td>$336.7</td>\n",
              "      <td>$338.2999</td>\n",
              "      <td>$332.24</td>\n",
              "    </tr>\n",
              "    <tr>\n",
              "      <th>2</th>\n",
              "      <td>2021-06-07</td>\n",
              "      <td>$336.58</td>\n",
              "      <td>20136710</td>\n",
              "      <td>$329.48</td>\n",
              "      <td>$337.69</td>\n",
              "      <td>$328.93</td>\n",
              "    </tr>\n",
              "    <tr>\n",
              "      <th>3</th>\n",
              "      <td>2021-06-04</td>\n",
              "      <td>$330.35</td>\n",
              "      <td>13289380</td>\n",
              "      <td>$325.9</td>\n",
              "      <td>$332.455</td>\n",
              "      <td>$325.18</td>\n",
              "    </tr>\n",
              "    <tr>\n",
              "      <th>4</th>\n",
              "      <td>2021-06-03</td>\n",
              "      <td>$326.04</td>\n",
              "      <td>12610790</td>\n",
              "      <td>$325.78</td>\n",
              "      <td>$327.375</td>\n",
              "      <td>$323.48</td>\n",
              "    </tr>\n",
              "    <tr>\n",
              "      <th>...</th>\n",
              "      <td>...</td>\n",
              "      <td>...</td>\n",
              "      <td>...</td>\n",
              "      <td>...</td>\n",
              "      <td>...</td>\n",
              "      <td>...</td>\n",
              "    </tr>\n",
              "    <tr>\n",
              "      <th>2274</th>\n",
              "      <td>2012-05-24</td>\n",
              "      <td>$33.03</td>\n",
              "      <td>50208760</td>\n",
              "      <td>$32.95</td>\n",
              "      <td>$33.21</td>\n",
              "      <td>$31.77</td>\n",
              "    </tr>\n",
              "    <tr>\n",
              "      <th>2275</th>\n",
              "      <td>2012-05-23</td>\n",
              "      <td>$32</td>\n",
              "      <td>73541150</td>\n",
              "      <td>$31.37</td>\n",
              "      <td>$32.5</td>\n",
              "      <td>$31.36</td>\n",
              "    </tr>\n",
              "    <tr>\n",
              "      <th>2276</th>\n",
              "      <td>2012-05-22</td>\n",
              "      <td>$31</td>\n",
              "      <td>101667700</td>\n",
              "      <td>$32.61</td>\n",
              "      <td>$33.59</td>\n",
              "      <td>$30.94</td>\n",
              "    </tr>\n",
              "    <tr>\n",
              "      <th>2277</th>\n",
              "      <td>2012-05-21</td>\n",
              "      <td>$34.03</td>\n",
              "      <td>167943600</td>\n",
              "      <td>$36.53</td>\n",
              "      <td>$36.66</td>\n",
              "      <td>$33</td>\n",
              "    </tr>\n",
              "    <tr>\n",
              "      <th>2278</th>\n",
              "      <td>2012-05-18</td>\n",
              "      <td>$38.2318</td>\n",
              "      <td>579377500</td>\n",
              "      <td>$42</td>\n",
              "      <td>$45</td>\n",
              "      <td>$38</td>\n",
              "    </tr>\n",
              "  </tbody>\n",
              "</table>\n",
              "<p>2279 rows × 6 columns</p>\n",
              "</div>"
            ],
            "text/plain": [
              "           Date Close/Last     Volume     Open       High      Low\n",
              "0    2021-06-09    $330.25   13727950  $335.74     $336.8     $330\n",
              "1    2021-06-08    $333.68   14580460   $336.7  $338.2999  $332.24\n",
              "2    2021-06-07    $336.58   20136710  $329.48    $337.69  $328.93\n",
              "3    2021-06-04    $330.35   13289380   $325.9   $332.455  $325.18\n",
              "4    2021-06-03    $326.04   12610790  $325.78   $327.375  $323.48\n",
              "...         ...        ...        ...      ...        ...      ...\n",
              "2274 2012-05-24     $33.03   50208760   $32.95     $33.21   $31.77\n",
              "2275 2012-05-23        $32   73541150   $31.37      $32.5   $31.36\n",
              "2276 2012-05-22        $31  101667700   $32.61     $33.59   $30.94\n",
              "2277 2012-05-21     $34.03  167943600   $36.53     $36.66      $33\n",
              "2278 2012-05-18   $38.2318  579377500      $42        $45      $38\n",
              "\n",
              "[2279 rows x 6 columns]"
            ]
          },
          "metadata": {
            "tags": []
          },
          "execution_count": 29
        }
      ]
    },
    {
      "cell_type": "code",
      "metadata": {
        "id": "lxq1twcnUW2Y",
        "colab": {
          "base_uri": "https://localhost:8080/",
          "height": 417
        },
        "outputId": "013ecad2-aa23-4feb-cf84-21145c5a5fa9"
      },
      "source": [
        "stocks['Date'] = list(map(lambda x: x.strftime('%B') + ' ' + str(x.year), stocks['Date']))\n",
        "stocks"
      ],
      "execution_count": 30,
      "outputs": [
        {
          "output_type": "execute_result",
          "data": {
            "text/html": [
              "<div>\n",
              "<style scoped>\n",
              "    .dataframe tbody tr th:only-of-type {\n",
              "        vertical-align: middle;\n",
              "    }\n",
              "\n",
              "    .dataframe tbody tr th {\n",
              "        vertical-align: top;\n",
              "    }\n",
              "\n",
              "    .dataframe thead th {\n",
              "        text-align: right;\n",
              "    }\n",
              "</style>\n",
              "<table border=\"1\" class=\"dataframe\">\n",
              "  <thead>\n",
              "    <tr style=\"text-align: right;\">\n",
              "      <th></th>\n",
              "      <th>Date</th>\n",
              "      <th>Close/Last</th>\n",
              "      <th>Volume</th>\n",
              "      <th>Open</th>\n",
              "      <th>High</th>\n",
              "      <th>Low</th>\n",
              "    </tr>\n",
              "  </thead>\n",
              "  <tbody>\n",
              "    <tr>\n",
              "      <th>0</th>\n",
              "      <td>June 2021</td>\n",
              "      <td>$330.25</td>\n",
              "      <td>13727950</td>\n",
              "      <td>$335.74</td>\n",
              "      <td>$336.8</td>\n",
              "      <td>$330</td>\n",
              "    </tr>\n",
              "    <tr>\n",
              "      <th>1</th>\n",
              "      <td>June 2021</td>\n",
              "      <td>$333.68</td>\n",
              "      <td>14580460</td>\n",
              "      <td>$336.7</td>\n",
              "      <td>$338.2999</td>\n",
              "      <td>$332.24</td>\n",
              "    </tr>\n",
              "    <tr>\n",
              "      <th>2</th>\n",
              "      <td>June 2021</td>\n",
              "      <td>$336.58</td>\n",
              "      <td>20136710</td>\n",
              "      <td>$329.48</td>\n",
              "      <td>$337.69</td>\n",
              "      <td>$328.93</td>\n",
              "    </tr>\n",
              "    <tr>\n",
              "      <th>3</th>\n",
              "      <td>June 2021</td>\n",
              "      <td>$330.35</td>\n",
              "      <td>13289380</td>\n",
              "      <td>$325.9</td>\n",
              "      <td>$332.455</td>\n",
              "      <td>$325.18</td>\n",
              "    </tr>\n",
              "    <tr>\n",
              "      <th>4</th>\n",
              "      <td>June 2021</td>\n",
              "      <td>$326.04</td>\n",
              "      <td>12610790</td>\n",
              "      <td>$325.78</td>\n",
              "      <td>$327.375</td>\n",
              "      <td>$323.48</td>\n",
              "    </tr>\n",
              "    <tr>\n",
              "      <th>...</th>\n",
              "      <td>...</td>\n",
              "      <td>...</td>\n",
              "      <td>...</td>\n",
              "      <td>...</td>\n",
              "      <td>...</td>\n",
              "      <td>...</td>\n",
              "    </tr>\n",
              "    <tr>\n",
              "      <th>2274</th>\n",
              "      <td>May 2012</td>\n",
              "      <td>$33.03</td>\n",
              "      <td>50208760</td>\n",
              "      <td>$32.95</td>\n",
              "      <td>$33.21</td>\n",
              "      <td>$31.77</td>\n",
              "    </tr>\n",
              "    <tr>\n",
              "      <th>2275</th>\n",
              "      <td>May 2012</td>\n",
              "      <td>$32</td>\n",
              "      <td>73541150</td>\n",
              "      <td>$31.37</td>\n",
              "      <td>$32.5</td>\n",
              "      <td>$31.36</td>\n",
              "    </tr>\n",
              "    <tr>\n",
              "      <th>2276</th>\n",
              "      <td>May 2012</td>\n",
              "      <td>$31</td>\n",
              "      <td>101667700</td>\n",
              "      <td>$32.61</td>\n",
              "      <td>$33.59</td>\n",
              "      <td>$30.94</td>\n",
              "    </tr>\n",
              "    <tr>\n",
              "      <th>2277</th>\n",
              "      <td>May 2012</td>\n",
              "      <td>$34.03</td>\n",
              "      <td>167943600</td>\n",
              "      <td>$36.53</td>\n",
              "      <td>$36.66</td>\n",
              "      <td>$33</td>\n",
              "    </tr>\n",
              "    <tr>\n",
              "      <th>2278</th>\n",
              "      <td>May 2012</td>\n",
              "      <td>$38.2318</td>\n",
              "      <td>579377500</td>\n",
              "      <td>$42</td>\n",
              "      <td>$45</td>\n",
              "      <td>$38</td>\n",
              "    </tr>\n",
              "  </tbody>\n",
              "</table>\n",
              "<p>2279 rows × 6 columns</p>\n",
              "</div>"
            ],
            "text/plain": [
              "           Date Close/Last     Volume     Open       High      Low\n",
              "0     June 2021    $330.25   13727950  $335.74     $336.8     $330\n",
              "1     June 2021    $333.68   14580460   $336.7  $338.2999  $332.24\n",
              "2     June 2021    $336.58   20136710  $329.48    $337.69  $328.93\n",
              "3     June 2021    $330.35   13289380   $325.9   $332.455  $325.18\n",
              "4     June 2021    $326.04   12610790  $325.78   $327.375  $323.48\n",
              "...         ...        ...        ...      ...        ...      ...\n",
              "2274   May 2012     $33.03   50208760   $32.95     $33.21   $31.77\n",
              "2275   May 2012        $32   73541150   $31.37      $32.5   $31.36\n",
              "2276   May 2012        $31  101667700   $32.61     $33.59   $30.94\n",
              "2277   May 2012     $34.03  167943600   $36.53     $36.66      $33\n",
              "2278   May 2012   $38.2318  579377500      $42        $45      $38\n",
              "\n",
              "[2279 rows x 6 columns]"
            ]
          },
          "metadata": {
            "tags": []
          },
          "execution_count": 30
        }
      ]
    },
    {
      "cell_type": "code",
      "metadata": {
        "id": "vgPg8p57Qj_0"
      },
      "source": [
        "#Removing $ symbol from Close, Open, High and Low columns to convert them to float values\n",
        "stocks['Close/Last'] = list(map(lambda x: x[1:], stocks['Close/Last'].values))\n",
        "stocks['Open'] = list(map(lambda x: x[1:], stocks['Open'].values))\n",
        "stocks['High'] = list(map(lambda x: x[1:], stocks['High'].values))\n",
        "stocks['Low'] = list(map(lambda x: x[1:], stocks['Low'].values))\n",
        "#Converting the above columns to float dataype\n",
        "stocks['Close/Last'] = stocks['Close/Last'].astype(float)\n",
        "stocks['Open'] = stocks['Open'].astype(float)\n",
        "stocks['High'] = stocks['High'].astype(float)\n",
        "stocks['Low'] = stocks['Low'].astype(float)"
      ],
      "execution_count": 31,
      "outputs": []
    },
    {
      "cell_type": "code",
      "metadata": {
        "id": "0NDRE4xvc542",
        "colab": {
          "base_uri": "https://localhost:8080/",
          "height": 625
        },
        "outputId": "f069f61c-cbfc-4ed1-da0f-63d7a0f69208"
      },
      "source": [
        "#visualizing the stock closing price (month-wise)\n",
        "plt.figure(figsize=(160,9))\n",
        "style.use('ggplot')\n",
        "sns.lineplot(stocks['Date'], stocks['Close/Last'])\n",
        "plt.title(\"Facebook closing Price(month-wise) History in USD($)\")\n",
        "plt.xlabel(\"Date\")\n",
        "plt.ylabel(\"Closing Price($)\")\n",
        "plt.show()"
      ],
      "execution_count": 32,
      "outputs": [
        {
          "output_type": "stream",
          "text": [
            "/usr/local/lib/python3.7/dist-packages/seaborn/_decorators.py:43: FutureWarning: Pass the following variables as keyword args: x, y. From version 0.12, the only valid positional argument will be `data`, and passing other arguments without an explicit keyword will result in an error or misinterpretation.\n",
            "  FutureWarning\n"
          ],
          "name": "stderr"
        },
        {
          "output_type": "display_data",
          "data": {
            "image/png": "[encoded data removed]",
            "text/plain": [
              "<Figure size 11520x648 with 1 Axes>"
            ]
          },
          "metadata": {
            "tags": []
          }
        }
      ]
    },
    {
      "cell_type": "markdown",
      "metadata": {
        "id": "PG3ZgtGzf6s-"
      },
      "source": [
        "Deciding Training set & Applying Feature Scaling"
      ]
    },
    {
      "cell_type": "code",
      "metadata": {
        "id": "q_Rf46IhdNfn"
      },
      "source": [
        "# Getting the training data\n",
        "dataset = stocks.filter(['Close/Last']).values\n",
        "trainset_len = math.ceil(len(dataset)*0.8)"
      ],
      "execution_count": 33,
      "outputs": []
    },
    {
      "cell_type": "code",
      "metadata": {
        "colab": {
          "base_uri": "https://localhost:8080/"
        },
        "id": "9wuhERvbpxK1",
        "outputId": "bf7eeb4a-26fc-45cd-839e-7ac297c5003e"
      },
      "source": [
        "# Feature Scaling\n",
        "scaler = MinMaxScaler(feature_range=(0,1))\n",
        "scaled_data = scaler.fit_transform(dataset)\n",
        "print(scaled_data)"
      ],
      "execution_count": 34,
      "outputs": [
        {
          "output_type": "stream",
          "text": [
            "[[0.98014747]\n",
            " [0.99090484]\n",
            " [1.        ]\n",
            " ...\n",
            " [0.04162132]\n",
            " [0.05112419]\n",
            " [0.06430213]]\n"
          ],
          "name": "stdout"
        }
      ]
    },
    {
      "cell_type": "code",
      "metadata": {
        "id": "TGcmRWlpr2li",
        "colab": {
          "base_uri": "https://localhost:8080/"
        },
        "outputId": "d12ef747-b308-472b-cef7-4dc54a0b6ecf"
      },
      "source": [
        "# create training dataset\n",
        "trainset_len = math.ceil(len(dataset) * 0.8)\n",
        "train_data = scaled_data[0:trainset_len, :]\n",
        "\n",
        "X_train = []\n",
        "y_train = []\n",
        "for i in range(60,len(train_data)):\n",
        "  X_train.append(train_data[i-60:i, 0])\n",
        "  y_train.append(train_data[i,0])\n",
        "  if i <= 61:\n",
        "    print(X_train)\n",
        "    print(y_train)"
      ],
      "execution_count": 36,
      "outputs": [
        {
          "output_type": "stream",
          "text": [
            "[array([0.98014747, 0.99090484, 1.        , 0.98046109, 0.96694381,\n",
            "       0.97669758, 0.97663485, 0.97538035, 0.98798812, 0.97202455,\n",
            "       0.97243226, 0.96252168, 0.93617709, 0.94364139, 0.92789736,\n",
            "       0.91651273, 0.93376216, 0.93526757, 0.9017723 , 0.89327303,\n",
            "       0.90575535, 0.90399905, 0.94511543, 0.94806352, 0.93238221,\n",
            "       0.94285732, 0.95609234, 0.963933  , 0.97782663, 0.90754302,\n",
            "       0.89647202, 0.8948098 , 0.88881954, 0.87436138, 0.88988587,\n",
            "       0.89358666, 0.89230079, 0.90465766, 0.90980113, 0.89411982,\n",
            "       0.91588548, 0.92146802, 0.92435338, 0.92610969, 0.92632923,\n",
            "       0.90490856, 0.91321965, 0.88107298, 0.86812022, 0.84764043,\n",
            "       0.85648469, 0.83202185, 0.81859866, 0.82926194, 0.8558888 ,\n",
            "       0.86501532, 0.85425794, 0.8182223 , 0.83512675, 0.82029224])]\n",
            "[0.802948712721616]\n",
            "[array([0.98014747, 0.99090484, 1.        , 0.98046109, 0.96694381,\n",
            "       0.97669758, 0.97663485, 0.97538035, 0.98798812, 0.97202455,\n",
            "       0.97243226, 0.96252168, 0.93617709, 0.94364139, 0.92789736,\n",
            "       0.91651273, 0.93376216, 0.93526757, 0.9017723 , 0.89327303,\n",
            "       0.90575535, 0.90399905, 0.94511543, 0.94806352, 0.93238221,\n",
            "       0.94285732, 0.95609234, 0.963933  , 0.97782663, 0.90754302,\n",
            "       0.89647202, 0.8948098 , 0.88881954, 0.87436138, 0.88988587,\n",
            "       0.89358666, 0.89230079, 0.90465766, 0.90980113, 0.89411982,\n",
            "       0.91588548, 0.92146802, 0.92435338, 0.92610969, 0.92632923,\n",
            "       0.90490856, 0.91321965, 0.88107298, 0.86812022, 0.84764043,\n",
            "       0.85648469, 0.83202185, 0.81859866, 0.82926194, 0.8558888 ,\n",
            "       0.86501532, 0.85425794, 0.8182223 , 0.83512675, 0.82029224]), array([0.99090484, 1.        , 0.98046109, 0.96694381, 0.97669758,\n",
            "       0.97663485, 0.97538035, 0.98798812, 0.97202455, 0.97243226,\n",
            "       0.96252168, 0.93617709, 0.94364139, 0.92789736, 0.91651273,\n",
            "       0.93376216, 0.93526757, 0.9017723 , 0.89327303, 0.90575535,\n",
            "       0.90399905, 0.94511543, 0.94806352, 0.93238221, 0.94285732,\n",
            "       0.95609234, 0.963933  , 0.97782663, 0.90754302, 0.89647202,\n",
            "       0.8948098 , 0.88881954, 0.87436138, 0.88988587, 0.89358666,\n",
            "       0.89230079, 0.90465766, 0.90980113, 0.89411982, 0.91588548,\n",
            "       0.92146802, 0.92435338, 0.92610969, 0.92632923, 0.90490856,\n",
            "       0.91321965, 0.88107298, 0.86812022, 0.84764043, 0.85648469,\n",
            "       0.83202185, 0.81859866, 0.82926194, 0.8558888 , 0.86501532,\n",
            "       0.85425794, 0.8182223 , 0.83512675, 0.82029224, 0.80294871])]\n",
            "[0.802948712721616, 0.7861697156352025]\n"
          ],
          "name": "stdout"
        }
      ]
    },
    {
      "cell_type": "code",
      "metadata": {
        "colab": {
          "resources": {
            "http://localhost:8080/nbextensions/google.colab/files.js": {
              "data": "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",
              "ok": true,
              "headers": [
                [
                  "content-type",
                  "application/javascript"
                ]
              ],
              "status": 200,
              "status_text": ""
            }
          },
          "base_uri": "https://localhost:8080/",
          "height": 715
        },
        "id": "7q9LgNQS-TZi",
        "outputId": "ab1dc950-95c9-406a-b59e-3b1750d9c524"
      },
      "source": [
        "from google.colab import files\n",
        "Upload=files.upload()\n",
        "\n",
        "news= pd.read_csv('gethistoricalmarketheadlines_20210610163519.csv')\n",
        "\n",
        "X = news.iloc[: ]\n",
        "news.head()"
      ],
      "execution_count": 38,
      "outputs": [
        {
          "output_type": "display_data",
          "data": {
            "text/html": [
              "\n",
              "     <input type=\"file\" id=\"files-4dbcbc1f-3ce2-4aaa-924d-9e3fb7c9a029\" name=\"files[]\" multiple disabled\n",
              "        style=\"border:none\" />\n",
              "     <output id=\"result-4dbcbc1f-3ce2-4aaa-924d-9e3fb7c9a029\">\n",
              "      Upload widget is only available when the cell has been executed in the\n",
              "      current browser session. Please rerun this cell to enable.\n",
              "      </output>\n",
              "      <script src=\"/nbextensions/google.colab/files.js\"></script> "
            ],
            "text/plain": [
              "<IPython.core.display.HTML object>"
            ]
          },
          "metadata": {
            "tags": []
          }
        },
        {
          "output_type": "stream",
          "text": [
            "Saving gethistoricalmarketheadlines_20210610163519.csv to gethistoricalmarketheadlines_20210610163519.csv\n"
          ],
          "name": "stdout"
        },
        {
          "output_type": "execute_result",
          "data": {
            "text/html": [
              "<div>\n",
              "<style scoped>\n",
              "    .dataframe tbody tr th:only-of-type {\n",
              "        vertical-align: middle;\n",
              "    }\n",
              "\n",
              "    .dataframe tbody tr th {\n",
              "        vertical-align: top;\n",
              "    }\n",
              "\n",
              "    .dataframe thead th {\n",
              "        text-align: right;\n",
              "    }\n",
              "</style>\n",
              "<table border=\"1\" class=\"dataframe\">\n",
              "  <thead>\n",
              "    <tr style=\"text-align: right;\">\n",
              "      <th></th>\n",
              "      <th>Outcome</th>\n",
              "      <th>Message</th>\n",
              "      <th>Identity</th>\n",
              "      <th>Delay</th>\n",
              "      <th>Headlines Securities CIK</th>\n",
              "      <th>Headlines Securities CUSIP</th>\n",
              "      <th>Headlines Securities Symbol</th>\n",
              "      <th>Headlines Securities ISIN</th>\n",
              "      <th>Headlines Securities Valoren</th>\n",
              "      <th>Headlines Securities Name</th>\n",
              "      <th>Headlines Securities Market</th>\n",
              "      <th>Headlines Securities MarketIdentificationCode</th>\n",
              "      <th>Headlines Securities MostLiquidExchange</th>\n",
              "      <th>Headlines Securities CategoryOrIndustry</th>\n",
              "      <th>Headlines Title</th>\n",
              "      <th>Headlines Date</th>\n",
              "      <th>Headlines Time</th>\n",
              "      <th>Headlines UTCOffset</th>\n",
              "      <th>Headlines Source</th>\n",
              "      <th>Headlines Url</th>\n",
              "      <th>Headlines Images</th>\n",
              "      <th>Headlines Tags TagType</th>\n",
              "      <th>Headlines Tags TagValues</th>\n",
              "      <th>Headlines PaywallType</th>\n",
              "      <th>Headlines Summary</th>\n",
              "    </tr>\n",
              "  </thead>\n",
              "  <tbody>\n",
              "    <tr>\n",
              "      <th>0</th>\n",
              "      <td>Success</td>\n",
              "      <td>NaN</td>\n",
              "      <td>Request</td>\n",
              "      <td>0.511007</td>\n",
              "      <td>NaN</td>\n",
              "      <td>NaN</td>\n",
              "      <td>NaN</td>\n",
              "      <td>NaN</td>\n",
              "      <td>NaN</td>\n",
              "      <td>NaN</td>\n",
              "      <td>NaN</td>\n",
              "      <td>NaN</td>\n",
              "      <td>NaN</td>\n",
              "      <td>NaN</td>\n",
              "      <td>Ex-commodities chairman Timothy Massad calls f...</td>\n",
              "      <td>6/9/2021</td>\n",
              "      <td>11:56 PM</td>\n",
              "      <td>0</td>\n",
              "      <td>CNBC MAD Money Recap</td>\n",
              "      <td>https://www.cnbc.com/2021/06/09/ex-cftc-chairm...</td>\n",
              "      <td>NaN</td>\n",
              "      <td>Symbols</td>\n",
              "      <td>NaN</td>\n",
              "      <td>None</td>\n",
              "      <td>\"We need a better framework so that we can jus...</td>\n",
              "    </tr>\n",
              "    <tr>\n",
              "      <th>1</th>\n",
              "      <td>Success</td>\n",
              "      <td>NaN</td>\n",
              "      <td>Request</td>\n",
              "      <td>0.511007</td>\n",
              "      <td>NaN</td>\n",
              "      <td>NaN</td>\n",
              "      <td>NaN</td>\n",
              "      <td>NaN</td>\n",
              "      <td>NaN</td>\n",
              "      <td>NaN</td>\n",
              "      <td>NaN</td>\n",
              "      <td>NaN</td>\n",
              "      <td>NaN</td>\n",
              "      <td>NaN</td>\n",
              "      <td>Ex-commodities chairman Timothy Massad calls f...</td>\n",
              "      <td>6/9/2021</td>\n",
              "      <td>11:56 PM</td>\n",
              "      <td>0</td>\n",
              "      <td>CNBC MAD Money Recap</td>\n",
              "      <td>https://www.cnbc.com/2021/06/09/ex-cftc-chairm...</td>\n",
              "      <td>NaN</td>\n",
              "      <td>Companies</td>\n",
              "      <td>NaN</td>\n",
              "      <td>None</td>\n",
              "      <td>\"We need a better framework so that we can jus...</td>\n",
              "    </tr>\n",
              "    <tr>\n",
              "      <th>2</th>\n",
              "      <td>Success</td>\n",
              "      <td>NaN</td>\n",
              "      <td>Request</td>\n",
              "      <td>0.511007</td>\n",
              "      <td>NaN</td>\n",
              "      <td>NaN</td>\n",
              "      <td>NaN</td>\n",
              "      <td>NaN</td>\n",
              "      <td>NaN</td>\n",
              "      <td>NaN</td>\n",
              "      <td>NaN</td>\n",
              "      <td>NaN</td>\n",
              "      <td>NaN</td>\n",
              "      <td>NaN</td>\n",
              "      <td>Ex-commodities chairman Timothy Massad calls f...</td>\n",
              "      <td>6/9/2021</td>\n",
              "      <td>11:56 PM</td>\n",
              "      <td>0</td>\n",
              "      <td>CNBC MAD Money Recap</td>\n",
              "      <td>https://www.cnbc.com/2021/06/09/ex-cftc-chairm...</td>\n",
              "      <td>NaN</td>\n",
              "      <td>Sectors</td>\n",
              "      <td>NaN</td>\n",
              "      <td>None</td>\n",
              "      <td>\"We need a better framework so that we can jus...</td>\n",
              "    </tr>\n",
              "    <tr>\n",
              "      <th>3</th>\n",
              "      <td>Success</td>\n",
              "      <td>NaN</td>\n",
              "      <td>Request</td>\n",
              "      <td>0.511007</td>\n",
              "      <td>NaN</td>\n",
              "      <td>NaN</td>\n",
              "      <td>NaN</td>\n",
              "      <td>NaN</td>\n",
              "      <td>NaN</td>\n",
              "      <td>NaN</td>\n",
              "      <td>NaN</td>\n",
              "      <td>NaN</td>\n",
              "      <td>NaN</td>\n",
              "      <td>NaN</td>\n",
              "      <td>Ex-commodities chairman Timothy Massad calls f...</td>\n",
              "      <td>6/9/2021</td>\n",
              "      <td>11:56 PM</td>\n",
              "      <td>0</td>\n",
              "      <td>CNBC MAD Money Recap</td>\n",
              "      <td>https://www.cnbc.com/2021/06/09/ex-cftc-chairm...</td>\n",
              "      <td>NaN</td>\n",
              "      <td>Topics</td>\n",
              "      <td>NaN</td>\n",
              "      <td>None</td>\n",
              "      <td>\"We need a better framework so that we can jus...</td>\n",
              "    </tr>\n",
              "    <tr>\n",
              "      <th>4</th>\n",
              "      <td>Success</td>\n",
              "      <td>NaN</td>\n",
              "      <td>Request</td>\n",
              "      <td>0.511007</td>\n",
              "      <td>NaN</td>\n",
              "      <td>NaN</td>\n",
              "      <td>NaN</td>\n",
              "      <td>NaN</td>\n",
              "      <td>NaN</td>\n",
              "      <td>NaN</td>\n",
              "      <td>NaN</td>\n",
              "      <td>NaN</td>\n",
              "      <td>NaN</td>\n",
              "      <td>NaN</td>\n",
              "      <td>GBP/USD sellers attack 1.4100 amid Brexit dold...</td>\n",
              "      <td>6/9/2021</td>\n",
              "      <td>11:56 PM</td>\n",
              "      <td>0</td>\n",
              "      <td>FXStreet News</td>\n",
              "      <td>https://www.fxstreet.com/news/gbp-usd-sellers-...</td>\n",
              "      <td>https://editorial.fxstreet.com/images/Markets/...</td>\n",
              "      <td>Topics</td>\n",
              "      <td>NaN</td>\n",
              "      <td>None</td>\n",
              "      <td>Read more on https://www.fxstreet.com...</td>\n",
              "    </tr>\n",
              "  </tbody>\n",
              "</table>\n",
              "</div>"
            ],
            "text/plain": [
              "   Outcome  ...                                  Headlines Summary\n",
              "0  Success  ...  \"We need a better framework so that we can jus...\n",
              "1  Success  ...  \"We need a better framework so that we can jus...\n",
              "2  Success  ...  \"We need a better framework so that we can jus...\n",
              "3  Success  ...  \"We need a better framework so that we can jus...\n",
              "4  Success  ...           Read more on https://www.fxstreet.com...\n",
              "\n",
              "[5 rows x 25 columns]"
            ]
          },
          "metadata": {
            "tags": []
          },
          "execution_count": 38
        }
      ]
    },
    {
      "cell_type": "code",
      "metadata": {
        "colab": {
          "base_uri": "https://localhost:8080/"
        },
        "id": "Iv5QkmAZA7OM",
        "outputId": "f70a86c7-0779-4776-aaa2-4adcf5f46384"
      },
      "source": [
        "news.shape"
      ],
      "execution_count": 39,
      "outputs": [
        {
          "output_type": "execute_result",
          "data": {
            "text/plain": [
              "(6756, 25)"
            ]
          },
          "metadata": {
            "tags": []
          },
          "execution_count": 39
        }
      ]
    },
    {
      "cell_type": "code",
      "metadata": {
        "colab": {
          "base_uri": "https://localhost:8080/",
          "height": 295
        },
        "id": "Gs1NM0cuBA1Z",
        "outputId": "96735062-f78c-4d59-a2e8-a746160a5dd8"
      },
      "source": [
        "news.describe()"
      ],
      "execution_count": 40,
      "outputs": [
        {
          "output_type": "execute_result",
          "data": {
            "text/html": [
              "<div>\n",
              "<style scoped>\n",
              "    .dataframe tbody tr th:only-of-type {\n",
              "        vertical-align: middle;\n",
              "    }\n",
              "\n",
              "    .dataframe tbody tr th {\n",
              "        vertical-align: top;\n",
              "    }\n",
              "\n",
              "    .dataframe thead th {\n",
              "        text-align: right;\n",
              "    }\n",
              "</style>\n",
              "<table border=\"1\" class=\"dataframe\">\n",
              "  <thead>\n",
              "    <tr style=\"text-align: right;\">\n",
              "      <th></th>\n",
              "      <th>Message</th>\n",
              "      <th>Delay</th>\n",
              "      <th>Headlines Securities CIK</th>\n",
              "      <th>Headlines Securities CUSIP</th>\n",
              "      <th>Headlines Securities ISIN</th>\n",
              "      <th>Headlines Securities Valoren</th>\n",
              "      <th>Headlines UTCOffset</th>\n",
              "    </tr>\n",
              "  </thead>\n",
              "  <tbody>\n",
              "    <tr>\n",
              "      <th>count</th>\n",
              "      <td>0.0</td>\n",
              "      <td>6.756000e+03</td>\n",
              "      <td>6.516000e+03</td>\n",
              "      <td>0.0</td>\n",
              "      <td>0.0</td>\n",
              "      <td>6.670000e+03</td>\n",
              "      <td>6756.0</td>\n",
              "    </tr>\n",
              "    <tr>\n",
              "      <th>mean</th>\n",
              "      <td>NaN</td>\n",
              "      <td>5.110066e-01</td>\n",
              "      <td>1.082056e+06</td>\n",
              "      <td>NaN</td>\n",
              "      <td>NaN</td>\n",
              "      <td>2.204701e+07</td>\n",
              "      <td>0.0</td>\n",
              "    </tr>\n",
              "    <tr>\n",
              "      <th>std</th>\n",
              "      <td>NaN</td>\n",
              "      <td>6.795068e-14</td>\n",
              "      <td>5.065849e+05</td>\n",
              "      <td>NaN</td>\n",
              "      <td>NaN</td>\n",
              "      <td>2.314598e+07</td>\n",
              "      <td>0.0</td>\n",
              "    </tr>\n",
              "    <tr>\n",
              "      <th>min</th>\n",
              "      <td>NaN</td>\n",
              "      <td>5.110066e-01</td>\n",
              "      <td>3.453000e+03</td>\n",
              "      <td>NaN</td>\n",
              "      <td>NaN</td>\n",
              "      <td>4.229000e+04</td>\n",
              "      <td>0.0</td>\n",
              "    </tr>\n",
              "    <tr>\n",
              "      <th>25%</th>\n",
              "      <td>NaN</td>\n",
              "      <td>5.110066e-01</td>\n",
              "      <td>8.902152e+05</td>\n",
              "      <td>NaN</td>\n",
              "      <td>NaN</td>\n",
              "      <td>9.591840e+05</td>\n",
              "      <td>0.0</td>\n",
              "    </tr>\n",
              "    <tr>\n",
              "      <th>50%</th>\n",
              "      <td>NaN</td>\n",
              "      <td>5.110066e-01</td>\n",
              "      <td>1.075124e+06</td>\n",
              "      <td>NaN</td>\n",
              "      <td>NaN</td>\n",
              "      <td>2.015605e+07</td>\n",
              "      <td>0.0</td>\n",
              "    </tr>\n",
              "    <tr>\n",
              "      <th>75%</th>\n",
              "      <td>NaN</td>\n",
              "      <td>5.110066e-01</td>\n",
              "      <td>1.486298e+06</td>\n",
              "      <td>NaN</td>\n",
              "      <td>NaN</td>\n",
              "      <td>4.119388e+07</td>\n",
              "      <td>0.0</td>\n",
              "    </tr>\n",
              "    <tr>\n",
              "      <th>max</th>\n",
              "      <td>NaN</td>\n",
              "      <td>5.110066e-01</td>\n",
              "      <td>1.853084e+06</td>\n",
              "      <td>NaN</td>\n",
              "      <td>NaN</td>\n",
              "      <td>1.117085e+08</td>\n",
              "      <td>0.0</td>\n",
              "    </tr>\n",
              "  </tbody>\n",
              "</table>\n",
              "</div>"
            ],
            "text/plain": [
              "       Message         Delay  ...  Headlines Securities Valoren  Headlines UTCOffset\n",
              "count      0.0  6.756000e+03  ...                  6.670000e+03               6756.0\n",
              "mean       NaN  5.110066e-01  ...                  2.204701e+07                  0.0\n",
              "std        NaN  6.795068e-14  ...                  2.314598e+07                  0.0\n",
              "min        NaN  5.110066e-01  ...                  4.229000e+04                  0.0\n",
              "25%        NaN  5.110066e-01  ...                  9.591840e+05                  0.0\n",
              "50%        NaN  5.110066e-01  ...                  2.015605e+07                  0.0\n",
              "75%        NaN  5.110066e-01  ...                  4.119388e+07                  0.0\n",
              "max        NaN  5.110066e-01  ...                  1.117085e+08                  0.0\n",
              "\n",
              "[8 rows x 7 columns]"
            ]
          },
          "metadata": {
            "tags": []
          },
          "execution_count": 40
        }
      ]
    },
    {
      "cell_type": "code",
      "metadata": {
        "colab": {
          "base_uri": "https://localhost:8080/"
        },
        "id": "bLxZghVeBDlj",
        "outputId": "0a2e51b4-0041-4f07-ac01-8947efb2743f"
      },
      "source": [
        "news.info()"
      ],
      "execution_count": 41,
      "outputs": [
        {
          "output_type": "stream",
          "text": [
            "<class 'pandas.core.frame.DataFrame'>\n",
            "RangeIndex: 6756 entries, 0 to 6755\n",
            "Data columns (total 25 columns):\n",
            " #   Column                                         Non-Null Count  Dtype  \n",
            "---  ------                                         --------------  -----  \n",
            " 0   Outcome                                        6756 non-null   object \n",
            " 1   Message                                        0 non-null      float64\n",
            " 2   Identity                                       6756 non-null   object \n",
            " 3   Delay                                          6756 non-null   float64\n",
            " 4   Headlines Securities CIK                       6516 non-null   float64\n",
            " 5   Headlines Securities CUSIP                     0 non-null      float64\n",
            " 6   Headlines Securities Symbol                    6713 non-null   object \n",
            " 7   Headlines Securities ISIN                      0 non-null      float64\n",
            " 8   Headlines Securities Valoren                   6670 non-null   float64\n",
            " 9   Headlines Securities Name                      6713 non-null   object \n",
            " 10  Headlines Securities Market                    6713 non-null   object \n",
            " 11  Headlines Securities MarketIdentificationCode  6713 non-null   object \n",
            " 12  Headlines Securities MostLiquidExchange        6747 non-null   object \n",
            " 13  Headlines Securities CategoryOrIndustry        6713 non-null   object \n",
            " 14  Headlines Title                                6756 non-null   object \n",
            " 15  Headlines Date                                 6756 non-null   object \n",
            " 16  Headlines Time                                 6756 non-null   object \n",
            " 17  Headlines UTCOffset                            6756 non-null   int64  \n",
            " 18  Headlines Source                               6756 non-null   object \n",
            " 19  Headlines Url                                  6756 non-null   object \n",
            " 20  Headlines Images                               6752 non-null   object \n",
            " 21  Headlines Tags TagType                         6756 non-null   object \n",
            " 22  Headlines Tags TagValues                       6745 non-null   object \n",
            " 23  Headlines PaywallType                          6756 non-null   object \n",
            " 24  Headlines Summary                              6237 non-null   object \n",
            "dtypes: float64(6), int64(1), object(18)\n",
            "memory usage: 1.3+ MB\n"
          ],
          "name": "stdout"
        }
      ]
    },
    {
      "cell_type": "code",
      "metadata": {
        "colab": {
          "base_uri": "https://localhost:8080/"
        },
        "id": "q1Ibd98vBSE3",
        "outputId": "3ba83f2e-3ff7-4cc1-9ca2-ad0be5767d35"
      },
      "source": [
        "news.isna().sum()"
      ],
      "execution_count": 42,
      "outputs": [
        {
          "output_type": "execute_result",
          "data": {
            "text/plain": [
              "Outcome                                             0\n",
              "Message                                          6756\n",
              "Identity                                            0\n",
              "Delay                                               0\n",
              "Headlines Securities CIK                          240\n",
              "Headlines Securities CUSIP                       6756\n",
              "Headlines Securities Symbol                        43\n",
              "Headlines Securities ISIN                        6756\n",
              "Headlines Securities Valoren                       86\n",
              "Headlines Securities Name                          43\n",
              "Headlines Securities Market                        43\n",
              "Headlines Securities MarketIdentificationCode      43\n",
              "Headlines Securities MostLiquidExchange             9\n",
              "Headlines Securities CategoryOrIndustry            43\n",
              "Headlines Title                                     0\n",
              "Headlines Date                                      0\n",
              "Headlines Time                                      0\n",
              "Headlines UTCOffset                                 0\n",
              "Headlines Source                                    0\n",
              "Headlines Url                                       0\n",
              "Headlines Images                                    4\n",
              "Headlines Tags TagType                              0\n",
              "Headlines Tags TagValues                           11\n",
              "Headlines PaywallType                               0\n",
              "Headlines Summary                                 519\n",
              "dtype: int64"
            ]
          },
          "metadata": {
            "tags": []
          },
          "execution_count": 42
        }
      ]
    },
    {
      "cell_type": "code",
      "metadata": {
        "colab": {
          "base_uri": "https://localhost:8080/"
        },
        "id": "nwAKoX3_Bfgb",
        "outputId": "21543bfc-541a-495f-fdc3-ce9986b312d0"
      },
      "source": [
        "total_cells = np.product(news.shape)\n",
        "total_missing = news.isna().sum()\n",
        "percent_missing = (total_missing/total_cells) * 100\n",
        "print(percent_missing)"
      ],
      "execution_count": 43,
      "outputs": [
        {
          "output_type": "stream",
          "text": [
            "Outcome                                          0.000000\n",
            "Message                                          4.000000\n",
            "Identity                                         0.000000\n",
            "Delay                                            0.000000\n",
            "Headlines Securities CIK                         0.142096\n",
            "Headlines Securities CUSIP                       4.000000\n",
            "Headlines Securities Symbol                      0.025459\n",
            "Headlines Securities ISIN                        4.000000\n",
            "Headlines Securities Valoren                     0.050918\n",
            "Headlines Securities Name                        0.025459\n",
            "Headlines Securities Market                      0.025459\n",
            "Headlines Securities MarketIdentificationCode    0.025459\n",
            "Headlines Securities MostLiquidExchange          0.005329\n",
            "Headlines Securities CategoryOrIndustry          0.025459\n",
            "Headlines Title                                  0.000000\n",
            "Headlines Date                                   0.000000\n",
            "Headlines Time                                   0.000000\n",
            "Headlines UTCOffset                              0.000000\n",
            "Headlines Source                                 0.000000\n",
            "Headlines Url                                    0.000000\n",
            "Headlines Images                                 0.002368\n",
            "Headlines Tags TagType                           0.000000\n",
            "Headlines Tags TagValues                         0.006513\n",
            "Headlines PaywallType                            0.000000\n",
            "Headlines Summary                                0.307282\n",
            "dtype: float64\n"
          ],
          "name": "stdout"
        }
      ]
    },
    {
      "cell_type": "code",
      "metadata": {
        "colab": {
          "base_uri": "https://localhost:8080/",
          "height": 102
        },
        "id": "MetP7SVMBjzj",
        "outputId": "3aa42258-457b-4504-a122-21fb990650ca"
      },
      "source": [
        "news.dropna()"
      ],
      "execution_count": 44,
      "outputs": [
        {
          "output_type": "execute_result",
          "data": {
            "text/html": [
              "<div>\n",
              "<style scoped>\n",
              "    .dataframe tbody tr th:only-of-type {\n",
              "        vertical-align: middle;\n",
              "    }\n",
              "\n",
              "    .dataframe tbody tr th {\n",
              "        vertical-align: top;\n",
              "    }\n",
              "\n",
              "    .dataframe thead th {\n",
              "        text-align: right;\n",
              "    }\n",
              "</style>\n",
              "<table border=\"1\" class=\"dataframe\">\n",
              "  <thead>\n",
              "    <tr style=\"text-align: right;\">\n",
              "      <th></th>\n",
              "      <th>Outcome</th>\n",
              "      <th>Message</th>\n",
              "      <th>Identity</th>\n",
              "      <th>Delay</th>\n",
              "      <th>Headlines Securities CIK</th>\n",
              "      <th>Headlines Securities CUSIP</th>\n",
              "      <th>Headlines Securities Symbol</th>\n",
              "      <th>Headlines Securities ISIN</th>\n",
              "      <th>Headlines Securities Valoren</th>\n",
              "      <th>Headlines Securities Name</th>\n",
              "      <th>Headlines Securities Market</th>\n",
              "      <th>Headlines Securities MarketIdentificationCode</th>\n",
              "      <th>Headlines Securities MostLiquidExchange</th>\n",
              "      <th>Headlines Securities CategoryOrIndustry</th>\n",
              "      <th>Headlines Title</th>\n",
              "      <th>Headlines Date</th>\n",
              "      <th>Headlines Time</th>\n",
              "      <th>Headlines UTCOffset</th>\n",
              "      <th>Headlines Source</th>\n",
              "      <th>Headlines Url</th>\n",
              "      <th>Headlines Images</th>\n",
              "      <th>Headlines Tags TagType</th>\n",
              "      <th>Headlines Tags TagValues</th>\n",
              "      <th>Headlines PaywallType</th>\n",
              "      <th>Headlines Summary</th>\n",
              "    </tr>\n",
              "  </thead>\n",
              "  <tbody>\n",
              "  </tbody>\n",
              "</table>\n",
              "</div>"
            ],
            "text/plain": [
              "Empty DataFrame\n",
              "Columns: [Outcome, Message, Identity, Delay, Headlines Securities CIK, Headlines Securities CUSIP, Headlines Securities Symbol, Headlines Securities ISIN, Headlines Securities Valoren, Headlines Securities Name, Headlines Securities Market, Headlines Securities MarketIdentificationCode, Headlines Securities MostLiquidExchange, Headlines Securities CategoryOrIndustry, Headlines Title, Headlines Date, Headlines Time, Headlines UTCOffset, Headlines Source, Headlines Url, Headlines Images, Headlines Tags TagType, Headlines Tags TagValues, Headlines PaywallType, Headlines Summary]\n",
              "Index: []"
            ]
          },
          "metadata": {
            "tags": []
          },
          "execution_count": 44
        }
      ]
    },
    {
      "cell_type": "code",
      "metadata": {
        "colab": {
          "base_uri": "https://localhost:8080/",
          "height": 304
        },
        "id": "0jL-DS-dBnTs",
        "outputId": "38c61a24-a088-48d9-c4be-87c5b643098f"
      },
      "source": [
        "columns_with_na_dropped = news.dropna(axis=1)\n",
        "columns_with_na_dropped.head()"
      ],
      "execution_count": 45,
      "outputs": [
        {
          "output_type": "execute_result",
          "data": {
            "text/html": [
              "<div>\n",
              "<style scoped>\n",
              "    .dataframe tbody tr th:only-of-type {\n",
              "        vertical-align: middle;\n",
              "    }\n",
              "\n",
              "    .dataframe tbody tr th {\n",
              "        vertical-align: top;\n",
              "    }\n",
              "\n",
              "    .dataframe thead th {\n",
              "        text-align: right;\n",
              "    }\n",
              "</style>\n",
              "<table border=\"1\" class=\"dataframe\">\n",
              "  <thead>\n",
              "    <tr style=\"text-align: right;\">\n",
              "      <th></th>\n",
              "      <th>Outcome</th>\n",
              "      <th>Identity</th>\n",
              "      <th>Delay</th>\n",
              "      <th>Headlines Title</th>\n",
              "      <th>Headlines Date</th>\n",
              "      <th>Headlines Time</th>\n",
              "      <th>Headlines UTCOffset</th>\n",
              "      <th>Headlines Source</th>\n",
              "      <th>Headlines Url</th>\n",
              "      <th>Headlines Tags TagType</th>\n",
              "      <th>Headlines PaywallType</th>\n",
              "    </tr>\n",
              "  </thead>\n",
              "  <tbody>\n",
              "    <tr>\n",
              "      <th>0</th>\n",
              "      <td>Success</td>\n",
              "      <td>Request</td>\n",
              "      <td>0.511007</td>\n",
              "      <td>Ex-commodities chairman Timothy Massad calls f...</td>\n",
              "      <td>6/9/2021</td>\n",
              "      <td>11:56 PM</td>\n",
              "      <td>0</td>\n",
              "      <td>CNBC MAD Money Recap</td>\n",
              "      <td>https://www.cnbc.com/2021/06/09/ex-cftc-chairm...</td>\n",
              "      <td>Symbols</td>\n",
              "      <td>None</td>\n",
              "    </tr>\n",
              "    <tr>\n",
              "      <th>1</th>\n",
              "      <td>Success</td>\n",
              "      <td>Request</td>\n",
              "      <td>0.511007</td>\n",
              "      <td>Ex-commodities chairman Timothy Massad calls f...</td>\n",
              "      <td>6/9/2021</td>\n",
              "      <td>11:56 PM</td>\n",
              "      <td>0</td>\n",
              "      <td>CNBC MAD Money Recap</td>\n",
              "      <td>https://www.cnbc.com/2021/06/09/ex-cftc-chairm...</td>\n",
              "      <td>Companies</td>\n",
              "      <td>None</td>\n",
              "    </tr>\n",
              "    <tr>\n",
              "      <th>2</th>\n",
              "      <td>Success</td>\n",
              "      <td>Request</td>\n",
              "      <td>0.511007</td>\n",
              "      <td>Ex-commodities chairman Timothy Massad calls f...</td>\n",
              "      <td>6/9/2021</td>\n",
              "      <td>11:56 PM</td>\n",
              "      <td>0</td>\n",
              "      <td>CNBC MAD Money Recap</td>\n",
              "      <td>https://www.cnbc.com/2021/06/09/ex-cftc-chairm...</td>\n",
              "      <td>Sectors</td>\n",
              "      <td>None</td>\n",
              "    </tr>\n",
              "    <tr>\n",
              "      <th>3</th>\n",
              "      <td>Success</td>\n",
              "      <td>Request</td>\n",
              "      <td>0.511007</td>\n",
              "      <td>Ex-commodities chairman Timothy Massad calls f...</td>\n",
              "      <td>6/9/2021</td>\n",
              "      <td>11:56 PM</td>\n",
              "      <td>0</td>\n",
              "      <td>CNBC MAD Money Recap</td>\n",
              "      <td>https://www.cnbc.com/2021/06/09/ex-cftc-chairm...</td>\n",
              "      <td>Topics</td>\n",
              "      <td>None</td>\n",
              "    </tr>\n",
              "    <tr>\n",
              "      <th>4</th>\n",
              "      <td>Success</td>\n",
              "      <td>Request</td>\n",
              "      <td>0.511007</td>\n",
              "      <td>GBP/USD sellers attack 1.4100 amid Brexit dold...</td>\n",
              "      <td>6/9/2021</td>\n",
              "      <td>11:56 PM</td>\n",
              "      <td>0</td>\n",
              "      <td>FXStreet News</td>\n",
              "      <td>https://www.fxstreet.com/news/gbp-usd-sellers-...</td>\n",
              "      <td>Topics</td>\n",
              "      <td>None</td>\n",
              "    </tr>\n",
              "  </tbody>\n",
              "</table>\n",
              "</div>"
            ],
            "text/plain": [
              "   Outcome Identity  ...  Headlines Tags TagType Headlines PaywallType\n",
              "0  Success  Request  ...                 Symbols                  None\n",
              "1  Success  Request  ...               Companies                  None\n",
              "2  Success  Request  ...                 Sectors                  None\n",
              "3  Success  Request  ...                  Topics                  None\n",
              "4  Success  Request  ...                  Topics                  None\n",
              "\n",
              "[5 rows x 11 columns]"
            ]
          },
          "metadata": {
            "tags": []
          },
          "execution_count": 45
        }
      ]
    },
    {
      "cell_type": "code",
      "metadata": {
        "colab": {
          "base_uri": "https://localhost:8080/"
        },
        "id": "_fcJnab1BvDs",
        "outputId": "2859f608-a76a-42d6-88b5-f74422023bda"
      },
      "source": [
        "news_with_na_dropped = news.dropna(axis=1)\n",
        "cols_in_original_dataset = news.shape[1]\n",
        "cols_in_na_dropped= news_with_na_dropped.shape[1]\n",
        "print(\"Columns in original dataset: %d \\n\" % news.shape[1])\n",
        "print(\"Columns with na's dropped: %d\" % news_with_na_dropped.shape[1])\n",
        "\n",
        "dropped_columns = cols_in_original_dataset - cols_in_na_dropped\n",
        "print(dropped_columns)\n"
      ],
      "execution_count": 46,
      "outputs": [
        {
          "output_type": "stream",
          "text": [
            "Columns in original dataset: 25 \n",
            "\n",
            "Columns with na's dropped: 11\n",
            "14\n"
          ],
          "name": "stdout"
        }
      ]
    },
    {
      "cell_type": "code",
      "metadata": {
        "id": "CUwl7yVxB2kN"
      },
      "source": [
        "news_with_na_imputed = news.fillna(method='bfill', axis=0).head()"
      ],
      "execution_count": 48,
      "outputs": []
    },
    {
      "cell_type": "code",
      "metadata": {
        "colab": {
          "base_uri": "https://localhost:8080/"
        },
        "id": "nhDVfX1CB9RP",
        "outputId": "ae897755-ed0d-47cb-fd79-cf1b78698ed3"
      },
      "source": [
        "import re\n",
        "import nltk\n",
        "nltk.download('stopwords')\n",
        "from nltk.corpus import stopwords\n",
        "from nltk.stem.porter import PorterStemmer"
      ],
      "execution_count": 49,
      "outputs": [
        {
          "output_type": "stream",
          "text": [
            "[nltk_data] Downloading package stopwords to /root/nltk_data...\n",
            "[nltk_data]   Unzipping corpora/stopwords.zip.\n"
          ],
          "name": "stdout"
        }
      ]
    },
    {
      "cell_type": "code",
      "metadata": {
        "id": "PsoAv5xUCDOY"
      },
      "source": [
        "corpus = []\n",
        "# Data = pd.read_csv('gethistoricalmarketheadlines_20210610163519.csv')\n",
        "for i in range(0, 6756):\n",
        "    review = re.sub('[^a-zA-Z]', ' ', columns_with_na_dropped['Headlines Title'][i])\n",
        "    review = review.lower()\n",
        "    review = review.split()\n",
        "    ps = PorterStemmer()\n",
        "    review = [ps.stem(word) for word in review if not word in set(stopwords.words('english'))]\n",
        "    review = ' '.join(review)\n",
        "    corpus.append(review)"
      ],
      "execution_count": 50,
      "outputs": []
    },
    {
      "cell_type": "code",
      "metadata": {
        "colab": {
          "base_uri": "https://localhost:8080/"
        },
        "id": "N1kwoLlgCIG3",
        "outputId": "2138c469-1372-49c4-9bfa-6209abc32a7b"
      },
      "source": [
        "len(corpus)"
      ],
      "execution_count": 51,
      "outputs": [
        {
          "output_type": "execute_result",
          "data": {
            "text/plain": [
              "6756"
            ]
          },
          "metadata": {
            "tags": []
          },
          "execution_count": 51
        }
      ]
    },
    {
      "cell_type": "code",
      "metadata": {
        "id": "B93RrTGDCOxJ"
      },
      "source": [
        "from sklearn.feature_extraction.text import CountVectorizer\n",
        "cv = CountVectorizer(max_features = 5000)\n",
        "x = cv.fit_transform(corpus).toarray()\n",
        "y = news.iloc[0:43942, 0].values"
      ],
      "execution_count": 53,
      "outputs": []
    },
    {
      "cell_type": "code",
      "metadata": {
        "colab": {
          "base_uri": "https://localhost:8080/"
        },
        "id": "FLSoW9v7CYCp",
        "outputId": "fa623ed7-4fce-4e28-eb2d-81a51cd7cca1"
      },
      "source": [
        "news_with_na_dropped = news.dropna(axis=1)\n",
        "cols_in_original_dataset = news.shape[1]\n",
        "cols_in_na_dropped= news_with_na_dropped.shape[1]\n",
        "print(\"Columns in original dataset: %d \\n\" % news.shape[1])\n",
        "print(\"Columns with na's dropped: %d\" % news_with_na_dropped.shape[1])\n",
        "\n",
        "dropped_columns = cols_in_original_dataset - cols_in_na_dropped\n",
        "print(dropped_columns)"
      ],
      "execution_count": 54,
      "outputs": [
        {
          "output_type": "stream",
          "text": [
            "Columns in original dataset: 25 \n",
            "\n",
            "Columns with na's dropped: 11\n",
            "14\n"
          ],
          "name": "stdout"
        }
      ]
    }
  ]
}