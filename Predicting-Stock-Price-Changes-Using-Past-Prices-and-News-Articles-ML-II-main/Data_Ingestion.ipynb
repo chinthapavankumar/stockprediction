{
  "nbformat": 4,
  "nbformat_minor": 0,
  "metadata": {
    "colab": {
      "name": "Data Ingestion.ipynb",
      "provenance": [],
      "collapsed_sections": []
    },
    "kernelspec": {
      "name": "python3",
      "display_name": "Python 3"
    },
    "language_info": {
      "name": "python"
    }
  },
  "cells": [
    {
      "cell_type": "markdown",
      "metadata": {
        "id": "HO6hqfbKI7QR"
      },
      "source": [
        "Work by **@Akash Sonowal**"
      ]
    },
    {
      "cell_type": "code",
      "metadata": {
        "id": "wVDQ5NNKw9eQ"
      },
      "source": [
        "import pandas as pd\n",
        "import requests\n",
        "import datetime"
      ],
      "execution_count": null,
      "outputs": []
    },
    {
      "cell_type": "code",
      "metadata": {
        "id": "Gdwrxbm8yOqF"
      },
      "source": [
        "date = []\n",
        "text = []"
      ],
      "execution_count": null,
      "outputs": []
    },
    {
      "cell_type": "markdown",
      "metadata": {
        "id": "2PFA6v1Zz_mx"
      },
      "source": [
        "**Using FMP Cloud API to gather data**"
      ]
    },
    {
      "cell_type": "code",
      "metadata": {
        "id": "sKKhX8gVyTZJ"
      },
      "source": [
        "ticker = 'AAPL'\n",
        "limit = '10000'\n",
        "key = 'db73b9bdb8d6dc556ccd898886d218bb'\n",
        "api_url = f'https://fmpcloud.io/api/v3/stock_news?tickers={ticker}&limit={limit}&apikey={key}'\n",
        "data = requests.get(api_url).json()\n",
        "\n",
        "for i in reversed(range(int(limit))):\n",
        "  text.append(data[i]['title'])\n",
        "  date.append(data[i]['publishedDate'].split()[0])"
      ],
      "execution_count": null,
      "outputs": []
    },
    {
      "cell_type": "code",
      "metadata": {
        "id": "8RXqg_mmyfIa"
      },
      "source": [
        "news = pd.DataFrame(list(zip(date,text)), columns=['Date','Apple News'])\n",
        "news['Date'] = pd.to_datetime(news['Date'])\n",
        "news.to_csv('/content/drive/MyDrive/IME 697 Summer Internship/Apple-News.csv', index=False)"
      ],
      "execution_count": null,
      "outputs": []
    },
    {
      "cell_type": "code",
      "metadata": {
        "id": "-UdUBurnyuJR"
      },
      "source": [
        "!pip install yfinance\n",
        "import yfinance as yf\n",
        "stock_price = yf.download(\"AAPL\", start=\"2019-07-30\", end=\"2021-06-17\")\n",
        "stock_price.reset_index(inplace=True)\n",
        "stock_price['Date'] = pd.to_datetime(stock_price['Date'])\n",
        "stock_price.to_csv('/content/drive/MyDrive/IME 697 Summer Internship/Apple-Stock-Price.csv', index=False)"
      ],
      "execution_count": null,
      "outputs": []
    }
  ]
}