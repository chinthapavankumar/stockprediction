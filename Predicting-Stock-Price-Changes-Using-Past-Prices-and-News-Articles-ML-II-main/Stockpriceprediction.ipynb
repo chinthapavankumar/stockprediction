{
  "nbformat": 4,
  "nbformat_minor": 0,
  "metadata": {
    "colab": {
      "name": "Stockpriceprediction.ipynb",
      "provenance": [],
      "collapsed_sections": []
    },
    "kernelspec": {
      "name": "python3",
      "display_name": "Python 3"
    },
    "language_info": {
      "name": "python"
    }
  },
  "cells": [
    {
      "cell_type": "code",
      "metadata": {
        "id": "-ayTp-l56-8V"
      },
      "source": [
        "#kasturi"
      ],
      "execution_count": 66,
      "outputs": []
    },
    {
      "cell_type": "code",
      "metadata": {
        "id": "l5kRC2ja7Dnc"
      },
      "source": [
        "# Importing the libraries\n",
        "import pandas as pd\n",
        "import numpy as np\n",
        "import matplotlib.pyplot as plt\n",
        "from matplotlib import style\n",
        "import seaborn as sns\n",
        "from datetime import date\n",
        "from sklearn.preprocessing import MinMaxScaler\n",
        "import math"
      ],
      "execution_count": 67,
      "outputs": []
    },
    {
      "cell_type": "markdown",
      "metadata": {
        "id": "XEs9ti5Zg1ML"
      },
      "source": [
        "Importing Dataset and making required changes to it"
      ]
    },
    {
      "cell_type": "code",
      "metadata": {
        "colab": {
          "resources": {
            "http://localhost:8080/nbextensions/google.colab/files.js": {
              "data": "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",
              "ok": true,
              "headers": [
                [
                  "content-type",
                  "application/javascript"
                ]
              ],
              "status": 200,
              "status_text": ""
            }
          },
          "base_uri": "https://localhost:8080/",
          "height": 290
        },
        "id": "b_yuG7WLLX40",
        "outputId": "23e4b716-27b6-4d16-87ab-f6e19cd6bd7d"
      },
      "source": [
        "# Importing the Apple stock data\n",
        "from google.colab import files\n",
        "Upload=files.upload()\n",
        "\n",
        "stocks = pd.read_csv('HistoricalData_TSLA.csv', index_col='Date', parse_dates=['Date'])\n",
        "X = stocks.iloc[: ]\n",
        "stocks.head()"
      ],
      "execution_count": 68,
      "outputs": [
        {
          "output_type": "display_data",
          "data": {
            "text/html": [
              "\n",
              "     <input type=\"file\" id=\"files-b101bac7-f56b-4183-b46e-26a7eacc8ccf\" name=\"files[]\" multiple disabled\n",
              "        style=\"border:none\" />\n",
              "     <output id=\"result-b101bac7-f56b-4183-b46e-26a7eacc8ccf\">\n",
              "      Upload widget is only available when the cell has been executed in the\n",
              "      current browser session. Please rerun this cell to enable.\n",
              "      </output>\n",
              "      <script src=\"/nbextensions/google.colab/files.js\"></script> "
            ],
            "text/plain": [
              "<IPython.core.display.HTML object>"
            ]
          },
          "metadata": {
            "tags": []
          }
        },
        {
          "output_type": "stream",
          "text": [
            "Saving HistoricalData_TSLA.csv to HistoricalData_TSLA (2).csv\n"
          ],
          "name": "stdout"
        },
        {
          "output_type": "execute_result",
          "data": {
            "text/html": [
              "<div>\n",
              "<style scoped>\n",
              "    .dataframe tbody tr th:only-of-type {\n",
              "        vertical-align: middle;\n",
              "    }\n",
              "\n",
              "    .dataframe tbody tr th {\n",
              "        vertical-align: top;\n",
              "    }\n",
              "\n",
              "    .dataframe thead th {\n",
              "        text-align: right;\n",
              "    }\n",
              "</style>\n",
              "<table border=\"1\" class=\"dataframe\">\n",
              "  <thead>\n",
              "    <tr style=\"text-align: right;\">\n",
              "      <th></th>\n",
              "      <th>Close/Last</th>\n",
              "      <th>Volume</th>\n",
              "      <th>Open</th>\n",
              "      <th>High</th>\n",
              "      <th>Low</th>\n",
              "    </tr>\n",
              "    <tr>\n",
              "      <th>Date</th>\n",
              "      <th></th>\n",
              "      <th></th>\n",
              "      <th></th>\n",
              "      <th></th>\n",
              "      <th></th>\n",
              "    </tr>\n",
              "  </thead>\n",
              "  <tbody>\n",
              "    <tr>\n",
              "      <th>2021-06-09</th>\n",
              "      <td>$598.78</td>\n",
              "      <td>16584570</td>\n",
              "      <td>$602.17</td>\n",
              "      <td>$611.79</td>\n",
              "      <td>$597.6301</td>\n",
              "    </tr>\n",
              "    <tr>\n",
              "      <th>2021-06-08</th>\n",
              "      <td>$603.59</td>\n",
              "      <td>26053410</td>\n",
              "      <td>$623.01</td>\n",
              "      <td>$623.09</td>\n",
              "      <td>$595.5</td>\n",
              "    </tr>\n",
              "    <tr>\n",
              "      <th>2021-06-07</th>\n",
              "      <td>$605.13</td>\n",
              "      <td>22543680</td>\n",
              "      <td>$591.825</td>\n",
              "      <td>$610</td>\n",
              "      <td>$582.88</td>\n",
              "    </tr>\n",
              "    <tr>\n",
              "      <th>2021-06-04</th>\n",
              "      <td>$599.05</td>\n",
              "      <td>24036900</td>\n",
              "      <td>$579.71</td>\n",
              "      <td>$600.61</td>\n",
              "      <td>$577.2</td>\n",
              "    </tr>\n",
              "    <tr>\n",
              "      <th>2021-06-03</th>\n",
              "      <td>$572.84</td>\n",
              "      <td>30111890</td>\n",
              "      <td>$601.8</td>\n",
              "      <td>$604.55</td>\n",
              "      <td>$571.22</td>\n",
              "    </tr>\n",
              "  </tbody>\n",
              "</table>\n",
              "</div>"
            ],
            "text/plain": [
              "           Close/Last    Volume      Open     High        Low\n",
              "Date                                                         \n",
              "2021-06-09    $598.78  16584570   $602.17  $611.79  $597.6301\n",
              "2021-06-08    $603.59  26053410   $623.01  $623.09     $595.5\n",
              "2021-06-07    $605.13  22543680  $591.825     $610    $582.88\n",
              "2021-06-04    $599.05  24036900   $579.71  $600.61     $577.2\n",
              "2021-06-03    $572.84  30111890    $601.8  $604.55    $571.22"
            ]
          },
          "metadata": {
            "tags": []
          },
          "execution_count": 68
        }
      ]
    },
    {
      "cell_type": "code",
      "metadata": {
        "colab": {
          "base_uri": "https://localhost:8080/"
        },
        "id": "17FXzrDacR80",
        "outputId": "1ab02534-6224-4bc2-eb22-a2af88895213"
      },
      "source": [
        "# Datatypes of all the columns of the stocks dataframe\n",
        "stocks.dtypes"
      ],
      "execution_count": 69,
      "outputs": [
        {
          "output_type": "execute_result",
          "data": {
            "text/plain": [
              "Close/Last    object\n",
              "Volume         int64\n",
              "Open          object\n",
              "High          object\n",
              "Low           object\n",
              "dtype: object"
            ]
          },
          "metadata": {
            "tags": []
          },
          "execution_count": 69
        }
      ]
    },
    {
      "cell_type": "code",
      "metadata": {
        "id": "jesPFLY1WtEy"
      },
      "source": [
        "# Removing $ symbol from Close, Open, High and Low columns to convert them to float values\n",
        "stocks['Close/Last'] = list(map(lambda x: x[1:], stocks['Close/Last'].values))\n",
        "stocks['Open'] = list(map(lambda x: x[1:], stocks['Open'].values))\n",
        "stocks['High'] = list(map(lambda x: x[1:], stocks['High'].values))\n",
        "stocks['Low'] = list(map(lambda x: x[1:], stocks['Low'].values))\n",
        "\n",
        "# Converting the above columns to float dataype\n",
        "stocks['Close/Last'] = stocks['Close/Last'].astype(float)\n",
        "stocks['Open'] = stocks['Open'].astype(float)\n",
        "stocks['High'] = stocks['High'].astype(float)\n",
        "stocks['Low'] = stocks['Low'].astype(float)"
      ],
      "execution_count": 70,
      "outputs": []
    },
    {
      "cell_type": "code",
      "metadata": {
        "colab": {
          "base_uri": "https://localhost:8080/",
          "height": 234
        },
        "id": "4vRkk8qCk6Q2",
        "outputId": "42fdf23e-770d-4de7-9ebb-6298c6ff90c4"
      },
      "source": [
        "stocks.head()"
      ],
      "execution_count": 71,
      "outputs": [
        {
          "output_type": "execute_result",
          "data": {
            "text/html": [
              "<div>\n",
              "<style scoped>\n",
              "    .dataframe tbody tr th:only-of-type {\n",
              "        vertical-align: middle;\n",
              "    }\n",
              "\n",
              "    .dataframe tbody tr th {\n",
              "        vertical-align: top;\n",
              "    }\n",
              "\n",
              "    .dataframe thead th {\n",
              "        text-align: right;\n",
              "    }\n",
              "</style>\n",
              "<table border=\"1\" class=\"dataframe\">\n",
              "  <thead>\n",
              "    <tr style=\"text-align: right;\">\n",
              "      <th></th>\n",
              "      <th>Close/Last</th>\n",
              "      <th>Volume</th>\n",
              "      <th>Open</th>\n",
              "      <th>High</th>\n",
              "      <th>Low</th>\n",
              "    </tr>\n",
              "    <tr>\n",
              "      <th>Date</th>\n",
              "      <th></th>\n",
              "      <th></th>\n",
              "      <th></th>\n",
              "      <th></th>\n",
              "      <th></th>\n",
              "    </tr>\n",
              "  </thead>\n",
              "  <tbody>\n",
              "    <tr>\n",
              "      <th>2021-06-09</th>\n",
              "      <td>598.78</td>\n",
              "      <td>16584570</td>\n",
              "      <td>602.170</td>\n",
              "      <td>611.79</td>\n",
              "      <td>597.6301</td>\n",
              "    </tr>\n",
              "    <tr>\n",
              "      <th>2021-06-08</th>\n",
              "      <td>603.59</td>\n",
              "      <td>26053410</td>\n",
              "      <td>623.010</td>\n",
              "      <td>623.09</td>\n",
              "      <td>595.5000</td>\n",
              "    </tr>\n",
              "    <tr>\n",
              "      <th>2021-06-07</th>\n",
              "      <td>605.13</td>\n",
              "      <td>22543680</td>\n",
              "      <td>591.825</td>\n",
              "      <td>610.00</td>\n",
              "      <td>582.8800</td>\n",
              "    </tr>\n",
              "    <tr>\n",
              "      <th>2021-06-04</th>\n",
              "      <td>599.05</td>\n",
              "      <td>24036900</td>\n",
              "      <td>579.710</td>\n",
              "      <td>600.61</td>\n",
              "      <td>577.2000</td>\n",
              "    </tr>\n",
              "    <tr>\n",
              "      <th>2021-06-03</th>\n",
              "      <td>572.84</td>\n",
              "      <td>30111890</td>\n",
              "      <td>601.800</td>\n",
              "      <td>604.55</td>\n",
              "      <td>571.2200</td>\n",
              "    </tr>\n",
              "  </tbody>\n",
              "</table>\n",
              "</div>"
            ],
            "text/plain": [
              "            Close/Last    Volume     Open    High       Low\n",
              "Date                                                       \n",
              "2021-06-09      598.78  16584570  602.170  611.79  597.6301\n",
              "2021-06-08      603.59  26053410  623.010  623.09  595.5000\n",
              "2021-06-07      605.13  22543680  591.825  610.00  582.8800\n",
              "2021-06-04      599.05  24036900  579.710  600.61  577.2000\n",
              "2021-06-03      572.84  30111890  601.800  604.55  571.2200"
            ]
          },
          "metadata": {
            "tags": []
          },
          "execution_count": 71
        }
      ]
    },
    {
      "cell_type": "markdown",
      "metadata": {
        "id": "ErpyCfosgbMf"
      },
      "source": [
        "Finding Missing/Null Values, if any"
      ]
    },
    {
      "cell_type": "code",
      "metadata": {
        "colab": {
          "base_uri": "https://localhost:8080/"
        },
        "id": "WlIsp-z7dQWi",
        "outputId": "56fd2de4-1cf7-4b23-850f-d58898d2c275"
      },
      "source": [
        "# Checking the total number of null values columnwise\n",
        "stocks.isnull().sum()"
      ],
      "execution_count": 72,
      "outputs": [
        {
          "output_type": "execute_result",
          "data": {
            "text/plain": [
              "Close/Last    0\n",
              "Volume        0\n",
              "Open          0\n",
              "High          0\n",
              "Low           0\n",
              "dtype: int64"
            ]
          },
          "metadata": {
            "tags": []
          },
          "execution_count": 72
        }
      ]
    },
    {
      "cell_type": "markdown",
      "metadata": {
        "id": "kObSNFSHfzg2"
      },
      "source": [
        "Visualizing Year-wise data"
      ]
    },
    {
      "cell_type": "code",
      "metadata": {
        "colab": {
          "base_uri": "https://localhost:8080/",
          "height": 577
        },
        "id": "y93dtuHlP75U",
        "outputId": "fa9e0f3a-5672-49fc-c244-4a9d2336ed6e"
      },
      "source": [
        "# visualizing the stock closing price (Year-wise)\n",
        "plt.figure(figsize=(16,9))\n",
        "style.use('ggplot')\n",
        "plt.plot(stocks['Close/Last'])\n",
        "plt.title(\"Tesla closing Price History in USD($)\", fontsize = 20)\n",
        "plt.xlabel(\"Date\", fontsize = 15)\n",
        "plt.ylabel(\"Closing Price($)\", fontsize = 15)\n",
        "plt.show()"
      ],
      "execution_count": 73,
      "outputs": [
        {
          "output_type": "display_data",
          "data": {
            "image/png": "[encoded data removed]",
            "text/plain": [
              "<Figure size 1152x648 with 1 Axes>"
            ]
          },
          "metadata": {
            "tags": []
          }
        }
      ]
    },
    {
      "cell_type": "markdown",
      "metadata": {
        "id": "l8n5-QWa6b9s"
      },
      "source": [
        "visualizing Month-wise data "
      ]
    },
    {
      "cell_type": "code",
      "metadata": {
        "id": "8CNbNlHSPLYy",
        "colab": {
          "base_uri": "https://localhost:8080/",
          "height": 417
        },
        "outputId": "8f36d990-b7ad-4025-be72-062c2f4e7be2"
      },
      "source": [
        "stocks = pd.read_csv('HistoricalData_TSLA.csv', parse_dates=['Date'])\n",
        "stocks"
      ],
      "execution_count": 74,
      "outputs": [
        {
          "output_type": "execute_result",
          "data": {
            "text/html": [
              "<div>\n",
              "<style scoped>\n",
              "    .dataframe tbody tr th:only-of-type {\n",
              "        vertical-align: middle;\n",
              "    }\n",
              "\n",
              "    .dataframe tbody tr th {\n",
              "        vertical-align: top;\n",
              "    }\n",
              "\n",
              "    .dataframe thead th {\n",
              "        text-align: right;\n",
              "    }\n",
              "</style>\n",
              "<table border=\"1\" class=\"dataframe\">\n",
              "  <thead>\n",
              "    <tr style=\"text-align: right;\">\n",
              "      <th></th>\n",
              "      <th>Date</th>\n",
              "      <th>Close/Last</th>\n",
              "      <th>Volume</th>\n",
              "      <th>Open</th>\n",
              "      <th>High</th>\n",
              "      <th>Low</th>\n",
              "    </tr>\n",
              "  </thead>\n",
              "  <tbody>\n",
              "    <tr>\n",
              "      <th>0</th>\n",
              "      <td>2021-06-09</td>\n",
              "      <td>$598.78</td>\n",
              "      <td>16584570</td>\n",
              "      <td>$602.17</td>\n",
              "      <td>$611.79</td>\n",
              "      <td>$597.6301</td>\n",
              "    </tr>\n",
              "    <tr>\n",
              "      <th>1</th>\n",
              "      <td>2021-06-08</td>\n",
              "      <td>$603.59</td>\n",
              "      <td>26053410</td>\n",
              "      <td>$623.01</td>\n",
              "      <td>$623.09</td>\n",
              "      <td>$595.5</td>\n",
              "    </tr>\n",
              "    <tr>\n",
              "      <th>2</th>\n",
              "      <td>2021-06-07</td>\n",
              "      <td>$605.13</td>\n",
              "      <td>22543680</td>\n",
              "      <td>$591.825</td>\n",
              "      <td>$610</td>\n",
              "      <td>$582.88</td>\n",
              "    </tr>\n",
              "    <tr>\n",
              "      <th>3</th>\n",
              "      <td>2021-06-04</td>\n",
              "      <td>$599.05</td>\n",
              "      <td>24036900</td>\n",
              "      <td>$579.71</td>\n",
              "      <td>$600.61</td>\n",
              "      <td>$577.2</td>\n",
              "    </tr>\n",
              "    <tr>\n",
              "      <th>4</th>\n",
              "      <td>2021-06-03</td>\n",
              "      <td>$572.84</td>\n",
              "      <td>30111890</td>\n",
              "      <td>$601.8</td>\n",
              "      <td>$604.55</td>\n",
              "      <td>$571.22</td>\n",
              "    </tr>\n",
              "    <tr>\n",
              "      <th>...</th>\n",
              "      <td>...</td>\n",
              "      <td>...</td>\n",
              "      <td>...</td>\n",
              "      <td>...</td>\n",
              "      <td>...</td>\n",
              "      <td>...</td>\n",
              "    </tr>\n",
              "    <tr>\n",
              "      <th>2511</th>\n",
              "      <td>2011-06-16</td>\n",
              "      <td>$5.3</td>\n",
              "      <td>9210620</td>\n",
              "      <td>$5.534</td>\n",
              "      <td>$5.6</td>\n",
              "      <td>$5.148</td>\n",
              "    </tr>\n",
              "    <tr>\n",
              "      <th>2512</th>\n",
              "      <td>2011-06-15</td>\n",
              "      <td>$5.464</td>\n",
              "      <td>6723390</td>\n",
              "      <td>$5.688</td>\n",
              "      <td>$5.69</td>\n",
              "      <td>$5.414</td>\n",
              "    </tr>\n",
              "    <tr>\n",
              "      <th>2513</th>\n",
              "      <td>2011-06-14</td>\n",
              "      <td>$5.72</td>\n",
              "      <td>7866000</td>\n",
              "      <td>$5.708</td>\n",
              "      <td>$5.94</td>\n",
              "      <td>$5.704</td>\n",
              "    </tr>\n",
              "    <tr>\n",
              "      <th>2514</th>\n",
              "      <td>2011-06-13</td>\n",
              "      <td>$5.686</td>\n",
              "      <td>8566960</td>\n",
              "      <td>$5.614</td>\n",
              "      <td>$5.776</td>\n",
              "      <td>$5.576</td>\n",
              "    </tr>\n",
              "    <tr>\n",
              "      <th>2515</th>\n",
              "      <td>2011-06-10</td>\n",
              "      <td>$5.572</td>\n",
              "      <td>7832660</td>\n",
              "      <td>$5.504</td>\n",
              "      <td>$5.6598</td>\n",
              "      <td>$5.47</td>\n",
              "    </tr>\n",
              "  </tbody>\n",
              "</table>\n",
              "<p>2516 rows × 6 columns</p>\n",
              "</div>"
            ],
            "text/plain": [
              "           Date Close/Last    Volume      Open     High        Low\n",
              "0    2021-06-09    $598.78  16584570   $602.17  $611.79  $597.6301\n",
              "1    2021-06-08    $603.59  26053410   $623.01  $623.09     $595.5\n",
              "2    2021-06-07    $605.13  22543680  $591.825     $610    $582.88\n",
              "3    2021-06-04    $599.05  24036900   $579.71  $600.61     $577.2\n",
              "4    2021-06-03    $572.84  30111890    $601.8  $604.55    $571.22\n",
              "...         ...        ...       ...       ...      ...        ...\n",
              "2511 2011-06-16       $5.3   9210620    $5.534     $5.6     $5.148\n",
              "2512 2011-06-15     $5.464   6723390    $5.688    $5.69     $5.414\n",
              "2513 2011-06-14      $5.72   7866000    $5.708    $5.94     $5.704\n",
              "2514 2011-06-13     $5.686   8566960    $5.614   $5.776     $5.576\n",
              "2515 2011-06-10     $5.572   7832660    $5.504  $5.6598      $5.47\n",
              "\n",
              "[2516 rows x 6 columns]"
            ]
          },
          "metadata": {
            "tags": []
          },
          "execution_count": 74
        }
      ]
    },
    {
      "cell_type": "code",
      "metadata": {
        "id": "lxq1twcnUW2Y",
        "colab": {
          "base_uri": "https://localhost:8080/",
          "height": 417
        },
        "outputId": "1b153489-be88-4e39-c43e-eccf4a7f8f3b"
      },
      "source": [
        "stocks['Date'] = list(map(lambda x: x.strftime('%B') + ' ' + str(x.year), stocks['Date']))\n",
        "stocks"
      ],
      "execution_count": 75,
      "outputs": [
        {
          "output_type": "execute_result",
          "data": {
            "text/html": [
              "<div>\n",
              "<style scoped>\n",
              "    .dataframe tbody tr th:only-of-type {\n",
              "        vertical-align: middle;\n",
              "    }\n",
              "\n",
              "    .dataframe tbody tr th {\n",
              "        vertical-align: top;\n",
              "    }\n",
              "\n",
              "    .dataframe thead th {\n",
              "        text-align: right;\n",
              "    }\n",
              "</style>\n",
              "<table border=\"1\" class=\"dataframe\">\n",
              "  <thead>\n",
              "    <tr style=\"text-align: right;\">\n",
              "      <th></th>\n",
              "      <th>Date</th>\n",
              "      <th>Close/Last</th>\n",
              "      <th>Volume</th>\n",
              "      <th>Open</th>\n",
              "      <th>High</th>\n",
              "      <th>Low</th>\n",
              "    </tr>\n",
              "  </thead>\n",
              "  <tbody>\n",
              "    <tr>\n",
              "      <th>0</th>\n",
              "      <td>June 2021</td>\n",
              "      <td>$598.78</td>\n",
              "      <td>16584570</td>\n",
              "      <td>$602.17</td>\n",
              "      <td>$611.79</td>\n",
              "      <td>$597.6301</td>\n",
              "    </tr>\n",
              "    <tr>\n",
              "      <th>1</th>\n",
              "      <td>June 2021</td>\n",
              "      <td>$603.59</td>\n",
              "      <td>26053410</td>\n",
              "      <td>$623.01</td>\n",
              "      <td>$623.09</td>\n",
              "      <td>$595.5</td>\n",
              "    </tr>\n",
              "    <tr>\n",
              "      <th>2</th>\n",
              "      <td>June 2021</td>\n",
              "      <td>$605.13</td>\n",
              "      <td>22543680</td>\n",
              "      <td>$591.825</td>\n",
              "      <td>$610</td>\n",
              "      <td>$582.88</td>\n",
              "    </tr>\n",
              "    <tr>\n",
              "      <th>3</th>\n",
              "      <td>June 2021</td>\n",
              "      <td>$599.05</td>\n",
              "      <td>24036900</td>\n",
              "      <td>$579.71</td>\n",
              "      <td>$600.61</td>\n",
              "      <td>$577.2</td>\n",
              "    </tr>\n",
              "    <tr>\n",
              "      <th>4</th>\n",
              "      <td>June 2021</td>\n",
              "      <td>$572.84</td>\n",
              "      <td>30111890</td>\n",
              "      <td>$601.8</td>\n",
              "      <td>$604.55</td>\n",
              "      <td>$571.22</td>\n",
              "    </tr>\n",
              "    <tr>\n",
              "      <th>...</th>\n",
              "      <td>...</td>\n",
              "      <td>...</td>\n",
              "      <td>...</td>\n",
              "      <td>...</td>\n",
              "      <td>...</td>\n",
              "      <td>...</td>\n",
              "    </tr>\n",
              "    <tr>\n",
              "      <th>2511</th>\n",
              "      <td>June 2011</td>\n",
              "      <td>$5.3</td>\n",
              "      <td>9210620</td>\n",
              "      <td>$5.534</td>\n",
              "      <td>$5.6</td>\n",
              "      <td>$5.148</td>\n",
              "    </tr>\n",
              "    <tr>\n",
              "      <th>2512</th>\n",
              "      <td>June 2011</td>\n",
              "      <td>$5.464</td>\n",
              "      <td>6723390</td>\n",
              "      <td>$5.688</td>\n",
              "      <td>$5.69</td>\n",
              "      <td>$5.414</td>\n",
              "    </tr>\n",
              "    <tr>\n",
              "      <th>2513</th>\n",
              "      <td>June 2011</td>\n",
              "      <td>$5.72</td>\n",
              "      <td>7866000</td>\n",
              "      <td>$5.708</td>\n",
              "      <td>$5.94</td>\n",
              "      <td>$5.704</td>\n",
              "    </tr>\n",
              "    <tr>\n",
              "      <th>2514</th>\n",
              "      <td>June 2011</td>\n",
              "      <td>$5.686</td>\n",
              "      <td>8566960</td>\n",
              "      <td>$5.614</td>\n",
              "      <td>$5.776</td>\n",
              "      <td>$5.576</td>\n",
              "    </tr>\n",
              "    <tr>\n",
              "      <th>2515</th>\n",
              "      <td>June 2011</td>\n",
              "      <td>$5.572</td>\n",
              "      <td>7832660</td>\n",
              "      <td>$5.504</td>\n",
              "      <td>$5.6598</td>\n",
              "      <td>$5.47</td>\n",
              "    </tr>\n",
              "  </tbody>\n",
              "</table>\n",
              "<p>2516 rows × 6 columns</p>\n",
              "</div>"
            ],
            "text/plain": [
              "           Date Close/Last    Volume      Open     High        Low\n",
              "0     June 2021    $598.78  16584570   $602.17  $611.79  $597.6301\n",
              "1     June 2021    $603.59  26053410   $623.01  $623.09     $595.5\n",
              "2     June 2021    $605.13  22543680  $591.825     $610    $582.88\n",
              "3     June 2021    $599.05  24036900   $579.71  $600.61     $577.2\n",
              "4     June 2021    $572.84  30111890    $601.8  $604.55    $571.22\n",
              "...         ...        ...       ...       ...      ...        ...\n",
              "2511  June 2011       $5.3   9210620    $5.534     $5.6     $5.148\n",
              "2512  June 2011     $5.464   6723390    $5.688    $5.69     $5.414\n",
              "2513  June 2011      $5.72   7866000    $5.708    $5.94     $5.704\n",
              "2514  June 2011     $5.686   8566960    $5.614   $5.776     $5.576\n",
              "2515  June 2011     $5.572   7832660    $5.504  $5.6598      $5.47\n",
              "\n",
              "[2516 rows x 6 columns]"
            ]
          },
          "metadata": {
            "tags": []
          },
          "execution_count": 75
        }
      ]
    },
    {
      "cell_type": "code",
      "metadata": {
        "id": "vgPg8p57Qj_0"
      },
      "source": [
        "# Removing $ symbol from Close, Open, High and Low columns to convert them to float values\n",
        "stocks['Close/Last'] = list(map(lambda x: x[1:], stocks['Close/Last'].values))\n",
        "stocks['Open'] = list(map(lambda x: x[1:], stocks['Open'].values))\n",
        "stocks['High'] = list(map(lambda x: x[1:], stocks['High'].values))\n",
        "stocks['Low'] = list(map(lambda x: x[1:], stocks['Low'].values))\n",
        "\n",
        " # Converting the above columns to float dataype\n",
        "stocks['Close/Last'] = stocks['Close/Last'].astype(float)\n",
        "stocks['Open'] = stocks['Open'].astype(float)\n",
        "stocks['High'] = stocks['High'].astype(float)\n",
        "stocks['Low'] = stocks['Low'].astype(float)"
      ],
      "execution_count": 76,
      "outputs": []
    },
    {
      "cell_type": "code",
      "metadata": {
        "id": "0NDRE4xvc542",
        "colab": {
          "base_uri": "https://localhost:8080/",
          "height": 158
        },
        "outputId": "8b539e99-f090-4bb2-89dd-bb572ec38266"
      },
      "source": [
        "#visualizing the stock closing price (month-wise) \n",
        "plt.figure(figsize=(160,9))\n",
        "style.use('ggplot')\n",
        "sns.lineplot(stocks['Date'], stocks['Close/Last'])\n",
        "plt.title(\"Tesla closing Price(month-wise) History in USD($)\")\n",
        "plt.xlabel(\"Date\")\n",
        "plt.ylabel(\"Closing Price($)\")\n",
        "plt.show()"
      ],
      "execution_count": 77,
      "outputs": [
        {
          "output_type": "stream",
          "text": [
            "/usr/local/lib/python3.7/dist-packages/seaborn/_decorators.py:43: FutureWarning: Pass the following variables as keyword args: x, y. From version 0.12, the only valid positional argument will be `data`, and passing other arguments without an explicit keyword will result in an error or misinterpretation.\n",
            "  FutureWarning\n"
          ],
          "name": "stderr"
        },
        {
          "output_type": "display_data",
          "data": {
            "image/png": "[encoded data removed]",
            "text/plain": [
              "<Figure size 11520x648 with 1 Axes>"
            ]
          },
          "metadata": {
            "tags": []
          }
        }
      ]
    },
    {
      "cell_type": "markdown",
      "metadata": {
        "id": "PG3ZgtGzf6s-"
      },
      "source": [
        "Deciding Training set & Applying Feature Scaling"
      ]
    },
    {
      "cell_type": "code",
      "metadata": {
        "id": "q_Rf46IhdNfn"
      },
      "source": [
        "# Getting the training data\n",
        "dataset = stocks.filter(['Close/Last']).values\n",
        "trainset_len = math.ceil(len(dataset)*0.8)"
      ],
      "execution_count": 78,
      "outputs": []
    },
    {
      "cell_type": "code",
      "metadata": {
        "colab": {
          "base_uri": "https://localhost:8080/"
        },
        "id": "9wuhERvbpxK1",
        "outputId": "ff00714b-6c18-46a7-f06c-0328df9f55cd"
      },
      "source": [
        "# Feature Scaling\n",
        "scaler = MinMaxScaler(feature_range=(0,1))\n",
        "scaled_data = scaler.fit_transform(dataset)\n",
        "print(scaled_data)"
      ],
      "execution_count": 79,
      "outputs": [
        {
          "output_type": "stream",
          "text": [
            "[[0.67644247]\n",
            " [0.68191647]\n",
            " [0.68366906]\n",
            " ...\n",
            " [0.0015136 ]\n",
            " [0.00147491]\n",
            " [0.00134517]]\n"
          ],
          "name": "stdout"
        }
      ]
    },
    {
      "cell_type": "code",
      "metadata": {
        "id": "TGcmRWlpr2li",
        "colab": {
          "base_uri": "https://localhost:8080/"
        },
        "outputId": "eefbbb86-bcf8-4baa-cc24-1923b9cc0d13"
      },
      "source": [
        "# create training dataset\n",
        "trainset_len = math.ceil(len(dataset) * 0.8)\n",
        "train_data = scaled_data[0:trainset_len, :]\n",
        "\n",
        "X_train = []\n",
        "y_train = []\n",
        "for i in range(60,len(train_data)):\n",
        "  X_train.append(train_data[i-60:i, 0])\n",
        "  y_train.append(train_data[i,0])\n",
        "  if i <= 61:\n",
        "     print(X_train)\n",
        "     print(y_train)"
      ],
      "execution_count": 80,
      "outputs": [
        {
          "output_type": "stream",
          "text": [
            "[array([0.67644247, 0.68191647, 0.68366906, 0.67674974, 0.64692159,\n",
            "       0.68365768, 0.70503016, 0.70653238, 0.71293957, 0.69960168,\n",
            "       0.68316832, 0.6851599 , 0.65607147, 0.66278593, 0.63624673,\n",
            "       0.65264595, 0.65146239, 0.66615455, 0.64561284, 0.66632525,\n",
            "       0.69740526, 0.71087971, 0.76019119, 0.75014226, 0.75856379,\n",
            "       0.76159099, 0.77445089, 0.80237851, 0.76546034, 0.78526232,\n",
            "       0.7970297 , 0.83510868, 0.82509389, 0.81404347, 0.84184591,\n",
            "       0.81324684, 0.80828497, 0.83690679, 0.83584841, 0.82831456,\n",
            "       0.86255832, 0.7938887 , 0.7654831 , 0.77319904, 0.75859793,\n",
            "       0.78209855, 0.78144987, 0.74810516, 0.75513827, 0.71836804,\n",
            "       0.69067941, 0.69912371, 0.72379652, 0.7122795 , 0.74857175,\n",
            "       0.75749403, 0.74027541, 0.73832935, 0.79369523, 0.76532377])]\n",
            "[0.8006714464549903]\n",
            "[array([0.67644247, 0.68191647, 0.68366906, 0.67674974, 0.64692159,\n",
            "       0.68365768, 0.70503016, 0.70653238, 0.71293957, 0.69960168,\n",
            "       0.68316832, 0.6851599 , 0.65607147, 0.66278593, 0.63624673,\n",
            "       0.65264595, 0.65146239, 0.66615455, 0.64561284, 0.66632525,\n",
            "       0.69740526, 0.71087971, 0.76019119, 0.75014226, 0.75856379,\n",
            "       0.76159099, 0.77445089, 0.80237851, 0.76546034, 0.78526232,\n",
            "       0.7970297 , 0.83510868, 0.82509389, 0.81404347, 0.84184591,\n",
            "       0.81324684, 0.80828497, 0.83690679, 0.83584841, 0.82831456,\n",
            "       0.86255832, 0.7938887 , 0.7654831 , 0.77319904, 0.75859793,\n",
            "       0.78209855, 0.78144987, 0.74810516, 0.75513827, 0.71836804,\n",
            "       0.69067941, 0.69912371, 0.72379652, 0.7122795 , 0.74857175,\n",
            "       0.75749403, 0.74027541, 0.73832935, 0.79369523, 0.76532377]), array([0.68191647, 0.68366906, 0.67674974, 0.64692159, 0.68365768,\n",
            "       0.70503016, 0.70653238, 0.71293957, 0.69960168, 0.68316832,\n",
            "       0.6851599 , 0.65607147, 0.66278593, 0.63624673, 0.65264595,\n",
            "       0.65146239, 0.66615455, 0.64561284, 0.66632525, 0.69740526,\n",
            "       0.71087971, 0.76019119, 0.75014226, 0.75856379, 0.76159099,\n",
            "       0.77445089, 0.80237851, 0.76546034, 0.78526232, 0.7970297 ,\n",
            "       0.83510868, 0.82509389, 0.81404347, 0.84184591, 0.81324684,\n",
            "       0.80828497, 0.83690679, 0.83584841, 0.82831456, 0.86255832,\n",
            "       0.7938887 , 0.7654831 , 0.77319904, 0.75859793, 0.78209855,\n",
            "       0.78144987, 0.74810516, 0.75513827, 0.71836804, 0.69067941,\n",
            "       0.69912371, 0.72379652, 0.7122795 , 0.74857175, 0.75749403,\n",
            "       0.74027541, 0.73832935, 0.79369523, 0.76532377, 0.80067145])]\n",
            "[0.8006714464549903, 0.7844998292932741]\n"
          ],
          "name": "stdout"
        }
      ]
    },
    {
      "cell_type": "code",
      "metadata": {
        "id": "pz1HUGIMs65A",
        "colab": {
          "resources": {
            "http://localhost:8080/nbextensions/google.colab/files.js": {
              "data": "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",
              "ok": true,
              "headers": [
                [
                  "content-type",
                  "application/javascript"
                ]
              ],
              "status": 200,
              "status_text": ""
            }
          },
          "base_uri": "https://localhost:8080/",
          "height": 715
        },
        "outputId": "329e856a-9451-48ef-9217-7e78944ba615"
      },
      "source": [
        "from google.colab import files\n",
        "Upload=files.upload()\n",
        "\n",
        "news= pd.read_csv('gethistoricalmarketheadlines_20210610163519.csv')\n",
        "\n",
        "X = news.iloc[: ]\n",
        "news.head()"
      ],
      "execution_count": 81,
      "outputs": [
        {
          "output_type": "display_data",
          "data": {
            "text/html": [
              "\n",
              "     <input type=\"file\" id=\"files-528b5345-0653-42ce-8c9a-b36f3e9cf99c\" name=\"files[]\" multiple disabled\n",
              "        style=\"border:none\" />\n",
              "     <output id=\"result-528b5345-0653-42ce-8c9a-b36f3e9cf99c\">\n",
              "      Upload widget is only available when the cell has been executed in the\n",
              "      current browser session. Please rerun this cell to enable.\n",
              "      </output>\n",
              "      <script src=\"/nbextensions/google.colab/files.js\"></script> "
            ],
            "text/plain": [
              "<IPython.core.display.HTML object>"
            ]
          },
          "metadata": {
            "tags": []
          }
        },
        {
          "output_type": "stream",
          "text": [
            "Saving gethistoricalmarketheadlines_20210610163519.csv to gethistoricalmarketheadlines_20210610163519.csv\n"
          ],
          "name": "stdout"
        },
        {
          "output_type": "execute_result",
          "data": {
            "text/html": [
              "<div>\n",
              "<style scoped>\n",
              "    .dataframe tbody tr th:only-of-type {\n",
              "        vertical-align: middle;\n",
              "    }\n",
              "\n",
              "    .dataframe tbody tr th {\n",
              "        vertical-align: top;\n",
              "    }\n",
              "\n",
              "    .dataframe thead th {\n",
              "        text-align: right;\n",
              "    }\n",
              "</style>\n",
              "<table border=\"1\" class=\"dataframe\">\n",
              "  <thead>\n",
              "    <tr style=\"text-align: right;\">\n",
              "      <th></th>\n",
              "      <th>Outcome</th>\n",
              "      <th>Message</th>\n",
              "      <th>Identity</th>\n",
              "      <th>Delay</th>\n",
              "      <th>Headlines Securities CIK</th>\n",
              "      <th>Headlines Securities CUSIP</th>\n",
              "      <th>Headlines Securities Symbol</th>\n",
              "      <th>Headlines Securities ISIN</th>\n",
              "      <th>Headlines Securities Valoren</th>\n",
              "      <th>Headlines Securities Name</th>\n",
              "      <th>Headlines Securities Market</th>\n",
              "      <th>Headlines Securities MarketIdentificationCode</th>\n",
              "      <th>Headlines Securities MostLiquidExchange</th>\n",
              "      <th>Headlines Securities CategoryOrIndustry</th>\n",
              "      <th>Headlines Title</th>\n",
              "      <th>Headlines Date</th>\n",
              "      <th>Headlines Time</th>\n",
              "      <th>Headlines UTCOffset</th>\n",
              "      <th>Headlines Source</th>\n",
              "      <th>Headlines Url</th>\n",
              "      <th>Headlines Images</th>\n",
              "      <th>Headlines Tags TagType</th>\n",
              "      <th>Headlines Tags TagValues</th>\n",
              "      <th>Headlines PaywallType</th>\n",
              "      <th>Headlines Summary</th>\n",
              "    </tr>\n",
              "  </thead>\n",
              "  <tbody>\n",
              "    <tr>\n",
              "      <th>0</th>\n",
              "      <td>Success</td>\n",
              "      <td>NaN</td>\n",
              "      <td>Request</td>\n",
              "      <td>0.511007</td>\n",
              "      <td>NaN</td>\n",
              "      <td>NaN</td>\n",
              "      <td>NaN</td>\n",
              "      <td>NaN</td>\n",
              "      <td>NaN</td>\n",
              "      <td>NaN</td>\n",
              "      <td>NaN</td>\n",
              "      <td>NaN</td>\n",
              "      <td>NaN</td>\n",
              "      <td>NaN</td>\n",
              "      <td>Ex-commodities chairman Timothy Massad calls f...</td>\n",
              "      <td>6/9/2021</td>\n",
              "      <td>11:56 PM</td>\n",
              "      <td>0</td>\n",
              "      <td>CNBC MAD Money Recap</td>\n",
              "      <td>https://www.cnbc.com/2021/06/09/ex-cftc-chairm...</td>\n",
              "      <td>NaN</td>\n",
              "      <td>Symbols</td>\n",
              "      <td>NaN</td>\n",
              "      <td>None</td>\n",
              "      <td>\"We need a better framework so that we can jus...</td>\n",
              "    </tr>\n",
              "    <tr>\n",
              "      <th>1</th>\n",
              "      <td>Success</td>\n",
              "      <td>NaN</td>\n",
              "      <td>Request</td>\n",
              "      <td>0.511007</td>\n",
              "      <td>NaN</td>\n",
              "      <td>NaN</td>\n",
              "      <td>NaN</td>\n",
              "      <td>NaN</td>\n",
              "      <td>NaN</td>\n",
              "      <td>NaN</td>\n",
              "      <td>NaN</td>\n",
              "      <td>NaN</td>\n",
              "      <td>NaN</td>\n",
              "      <td>NaN</td>\n",
              "      <td>Ex-commodities chairman Timothy Massad calls f...</td>\n",
              "      <td>6/9/2021</td>\n",
              "      <td>11:56 PM</td>\n",
              "      <td>0</td>\n",
              "      <td>CNBC MAD Money Recap</td>\n",
              "      <td>https://www.cnbc.com/2021/06/09/ex-cftc-chairm...</td>\n",
              "      <td>NaN</td>\n",
              "      <td>Companies</td>\n",
              "      <td>NaN</td>\n",
              "      <td>None</td>\n",
              "      <td>\"We need a better framework so that we can jus...</td>\n",
              "    </tr>\n",
              "    <tr>\n",
              "      <th>2</th>\n",
              "      <td>Success</td>\n",
              "      <td>NaN</td>\n",
              "      <td>Request</td>\n",
              "      <td>0.511007</td>\n",
              "      <td>NaN</td>\n",
              "      <td>NaN</td>\n",
              "      <td>NaN</td>\n",
              "      <td>NaN</td>\n",
              "      <td>NaN</td>\n",
              "      <td>NaN</td>\n",
              "      <td>NaN</td>\n",
              "      <td>NaN</td>\n",
              "      <td>NaN</td>\n",
              "      <td>NaN</td>\n",
              "      <td>Ex-commodities chairman Timothy Massad calls f...</td>\n",
              "      <td>6/9/2021</td>\n",
              "      <td>11:56 PM</td>\n",
              "      <td>0</td>\n",
              "      <td>CNBC MAD Money Recap</td>\n",
              "      <td>https://www.cnbc.com/2021/06/09/ex-cftc-chairm...</td>\n",
              "      <td>NaN</td>\n",
              "      <td>Sectors</td>\n",
              "      <td>NaN</td>\n",
              "      <td>None</td>\n",
              "      <td>\"We need a better framework so that we can jus...</td>\n",
              "    </tr>\n",
              "    <tr>\n",
              "      <th>3</th>\n",
              "      <td>Success</td>\n",
              "      <td>NaN</td>\n",
              "      <td>Request</td>\n",
              "      <td>0.511007</td>\n",
              "      <td>NaN</td>\n",
              "      <td>NaN</td>\n",
              "      <td>NaN</td>\n",
              "      <td>NaN</td>\n",
              "      <td>NaN</td>\n",
              "      <td>NaN</td>\n",
              "      <td>NaN</td>\n",
              "      <td>NaN</td>\n",
              "      <td>NaN</td>\n",
              "      <td>NaN</td>\n",
              "      <td>Ex-commodities chairman Timothy Massad calls f...</td>\n",
              "      <td>6/9/2021</td>\n",
              "      <td>11:56 PM</td>\n",
              "      <td>0</td>\n",
              "      <td>CNBC MAD Money Recap</td>\n",
              "      <td>https://www.cnbc.com/2021/06/09/ex-cftc-chairm...</td>\n",
              "      <td>NaN</td>\n",
              "      <td>Topics</td>\n",
              "      <td>NaN</td>\n",
              "      <td>None</td>\n",
              "      <td>\"We need a better framework so that we can jus...</td>\n",
              "    </tr>\n",
              "    <tr>\n",
              "      <th>4</th>\n",
              "      <td>Success</td>\n",
              "      <td>NaN</td>\n",
              "      <td>Request</td>\n",
              "      <td>0.511007</td>\n",
              "      <td>NaN</td>\n",
              "      <td>NaN</td>\n",
              "      <td>NaN</td>\n",
              "      <td>NaN</td>\n",
              "      <td>NaN</td>\n",
              "      <td>NaN</td>\n",
              "      <td>NaN</td>\n",
              "      <td>NaN</td>\n",
              "      <td>NaN</td>\n",
              "      <td>NaN</td>\n",
              "      <td>GBP/USD sellers attack 1.4100 amid Brexit dold...</td>\n",
              "      <td>6/9/2021</td>\n",
              "      <td>11:56 PM</td>\n",
              "      <td>0</td>\n",
              "      <td>FXStreet News</td>\n",
              "      <td>https://www.fxstreet.com/news/gbp-usd-sellers-...</td>\n",
              "      <td>https://editorial.fxstreet.com/images/Markets/...</td>\n",
              "      <td>Topics</td>\n",
              "      <td>NaN</td>\n",
              "      <td>None</td>\n",
              "      <td>Read more on https://www.fxstreet.com...</td>\n",
              "    </tr>\n",
              "  </tbody>\n",
              "</table>\n",
              "</div>"
            ],
            "text/plain": [
              "   Outcome  ...                                  Headlines Summary\n",
              "0  Success  ...  \"We need a better framework so that we can jus...\n",
              "1  Success  ...  \"We need a better framework so that we can jus...\n",
              "2  Success  ...  \"We need a better framework so that we can jus...\n",
              "3  Success  ...  \"We need a better framework so that we can jus...\n",
              "4  Success  ...           Read more on https://www.fxstreet.com...\n",
              "\n",
              "[5 rows x 25 columns]"
            ]
          },
          "metadata": {
            "tags": []
          },
          "execution_count": 81
        }
      ]
    },
    {
      "cell_type": "code",
      "metadata": {
        "colab": {
          "base_uri": "https://localhost:8080/"
        },
        "id": "8jW11PpT9DYD",
        "outputId": "c9f69a87-1d27-4e60-9c37-995e3497e78c"
      },
      "source": [
        "news.shape"
      ],
      "execution_count": 82,
      "outputs": [
        {
          "output_type": "execute_result",
          "data": {
            "text/plain": [
              "(6756, 25)"
            ]
          },
          "metadata": {
            "tags": []
          },
          "execution_count": 82
        }
      ]
    },
    {
      "cell_type": "code",
      "metadata": {
        "colab": {
          "base_uri": "https://localhost:8080/",
          "height": 295
        },
        "id": "JpSugNJ79Ihc",
        "outputId": "a2254bbe-3164-4a17-bfe4-a8b82db58bb7"
      },
      "source": [
        "news.describe()"
      ],
      "execution_count": 83,
      "outputs": [
        {
          "output_type": "execute_result",
          "data": {
            "text/html": [
              "<div>\n",
              "<style scoped>\n",
              "    .dataframe tbody tr th:only-of-type {\n",
              "        vertical-align: middle;\n",
              "    }\n",
              "\n",
              "    .dataframe tbody tr th {\n",
              "        vertical-align: top;\n",
              "    }\n",
              "\n",
              "    .dataframe thead th {\n",
              "        text-align: right;\n",
              "    }\n",
              "</style>\n",
              "<table border=\"1\" class=\"dataframe\">\n",
              "  <thead>\n",
              "    <tr style=\"text-align: right;\">\n",
              "      <th></th>\n",
              "      <th>Message</th>\n",
              "      <th>Delay</th>\n",
              "      <th>Headlines Securities CIK</th>\n",
              "      <th>Headlines Securities CUSIP</th>\n",
              "      <th>Headlines Securities ISIN</th>\n",
              "      <th>Headlines Securities Valoren</th>\n",
              "      <th>Headlines UTCOffset</th>\n",
              "    </tr>\n",
              "  </thead>\n",
              "  <tbody>\n",
              "    <tr>\n",
              "      <th>count</th>\n",
              "      <td>0.0</td>\n",
              "      <td>6.756000e+03</td>\n",
              "      <td>6.516000e+03</td>\n",
              "      <td>0.0</td>\n",
              "      <td>0.0</td>\n",
              "      <td>6.670000e+03</td>\n",
              "      <td>6756.0</td>\n",
              "    </tr>\n",
              "    <tr>\n",
              "      <th>mean</th>\n",
              "      <td>NaN</td>\n",
              "      <td>5.110066e-01</td>\n",
              "      <td>1.082056e+06</td>\n",
              "      <td>NaN</td>\n",
              "      <td>NaN</td>\n",
              "      <td>2.204701e+07</td>\n",
              "      <td>0.0</td>\n",
              "    </tr>\n",
              "    <tr>\n",
              "      <th>std</th>\n",
              "      <td>NaN</td>\n",
              "      <td>6.795068e-14</td>\n",
              "      <td>5.065849e+05</td>\n",
              "      <td>NaN</td>\n",
              "      <td>NaN</td>\n",
              "      <td>2.314598e+07</td>\n",
              "      <td>0.0</td>\n",
              "    </tr>\n",
              "    <tr>\n",
              "      <th>min</th>\n",
              "      <td>NaN</td>\n",
              "      <td>5.110066e-01</td>\n",
              "      <td>3.453000e+03</td>\n",
              "      <td>NaN</td>\n",
              "      <td>NaN</td>\n",
              "      <td>4.229000e+04</td>\n",
              "      <td>0.0</td>\n",
              "    </tr>\n",
              "    <tr>\n",
              "      <th>25%</th>\n",
              "      <td>NaN</td>\n",
              "      <td>5.110066e-01</td>\n",
              "      <td>8.902152e+05</td>\n",
              "      <td>NaN</td>\n",
              "      <td>NaN</td>\n",
              "      <td>9.591840e+05</td>\n",
              "      <td>0.0</td>\n",
              "    </tr>\n",
              "    <tr>\n",
              "      <th>50%</th>\n",
              "      <td>NaN</td>\n",
              "      <td>5.110066e-01</td>\n",
              "      <td>1.075124e+06</td>\n",
              "      <td>NaN</td>\n",
              "      <td>NaN</td>\n",
              "      <td>2.015605e+07</td>\n",
              "      <td>0.0</td>\n",
              "    </tr>\n",
              "    <tr>\n",
              "      <th>75%</th>\n",
              "      <td>NaN</td>\n",
              "      <td>5.110066e-01</td>\n",
              "      <td>1.486298e+06</td>\n",
              "      <td>NaN</td>\n",
              "      <td>NaN</td>\n",
              "      <td>4.119388e+07</td>\n",
              "      <td>0.0</td>\n",
              "    </tr>\n",
              "    <tr>\n",
              "      <th>max</th>\n",
              "      <td>NaN</td>\n",
              "      <td>5.110066e-01</td>\n",
              "      <td>1.853084e+06</td>\n",
              "      <td>NaN</td>\n",
              "      <td>NaN</td>\n",
              "      <td>1.117085e+08</td>\n",
              "      <td>0.0</td>\n",
              "    </tr>\n",
              "  </tbody>\n",
              "</table>\n",
              "</div>"
            ],
            "text/plain": [
              "       Message         Delay  ...  Headlines Securities Valoren  Headlines UTCOffset\n",
              "count      0.0  6.756000e+03  ...                  6.670000e+03               6756.0\n",
              "mean       NaN  5.110066e-01  ...                  2.204701e+07                  0.0\n",
              "std        NaN  6.795068e-14  ...                  2.314598e+07                  0.0\n",
              "min        NaN  5.110066e-01  ...                  4.229000e+04                  0.0\n",
              "25%        NaN  5.110066e-01  ...                  9.591840e+05                  0.0\n",
              "50%        NaN  5.110066e-01  ...                  2.015605e+07                  0.0\n",
              "75%        NaN  5.110066e-01  ...                  4.119388e+07                  0.0\n",
              "max        NaN  5.110066e-01  ...                  1.117085e+08                  0.0\n",
              "\n",
              "[8 rows x 7 columns]"
            ]
          },
          "metadata": {
            "tags": []
          },
          "execution_count": 83
        }
      ]
    },
    {
      "cell_type": "code",
      "metadata": {
        "colab": {
          "base_uri": "https://localhost:8080/"
        },
        "id": "fX69Rm1d9Mcj",
        "outputId": "1ac2a00a-1429-4ff3-9250-4ba8c20f603e"
      },
      "source": [
        "news.info()"
      ],
      "execution_count": 84,
      "outputs": [
        {
          "output_type": "stream",
          "text": [
            "<class 'pandas.core.frame.DataFrame'>\n",
            "RangeIndex: 6756 entries, 0 to 6755\n",
            "Data columns (total 25 columns):\n",
            " #   Column                                         Non-Null Count  Dtype  \n",
            "---  ------                                         --------------  -----  \n",
            " 0   Outcome                                        6756 non-null   object \n",
            " 1   Message                                        0 non-null      float64\n",
            " 2   Identity                                       6756 non-null   object \n",
            " 3   Delay                                          6756 non-null   float64\n",
            " 4   Headlines Securities CIK                       6516 non-null   float64\n",
            " 5   Headlines Securities CUSIP                     0 non-null      float64\n",
            " 6   Headlines Securities Symbol                    6713 non-null   object \n",
            " 7   Headlines Securities ISIN                      0 non-null      float64\n",
            " 8   Headlines Securities Valoren                   6670 non-null   float64\n",
            " 9   Headlines Securities Name                      6713 non-null   object \n",
            " 10  Headlines Securities Market                    6713 non-null   object \n",
            " 11  Headlines Securities MarketIdentificationCode  6713 non-null   object \n",
            " 12  Headlines Securities MostLiquidExchange        6747 non-null   object \n",
            " 13  Headlines Securities CategoryOrIndustry        6713 non-null   object \n",
            " 14  Headlines Title                                6756 non-null   object \n",
            " 15  Headlines Date                                 6756 non-null   object \n",
            " 16  Headlines Time                                 6756 non-null   object \n",
            " 17  Headlines UTCOffset                            6756 non-null   int64  \n",
            " 18  Headlines Source                               6756 non-null   object \n",
            " 19  Headlines Url                                  6756 non-null   object \n",
            " 20  Headlines Images                               6752 non-null   object \n",
            " 21  Headlines Tags TagType                         6756 non-null   object \n",
            " 22  Headlines Tags TagValues                       6745 non-null   object \n",
            " 23  Headlines PaywallType                          6756 non-null   object \n",
            " 24  Headlines Summary                              6237 non-null   object \n",
            "dtypes: float64(6), int64(1), object(18)\n",
            "memory usage: 1.3+ MB\n"
          ],
          "name": "stdout"
        }
      ]
    },
    {
      "cell_type": "code",
      "metadata": {
        "colab": {
          "base_uri": "https://localhost:8080/"
        },
        "id": "ii3PKmmG9Pt4",
        "outputId": "1f8775ca-0ced-4196-d7e5-7572f096eb97"
      },
      "source": [
        "news.isna().sum()"
      ],
      "execution_count": 85,
      "outputs": [
        {
          "output_type": "execute_result",
          "data": {
            "text/plain": [
              "Outcome                                             0\n",
              "Message                                          6756\n",
              "Identity                                            0\n",
              "Delay                                               0\n",
              "Headlines Securities CIK                          240\n",
              "Headlines Securities CUSIP                       6756\n",
              "Headlines Securities Symbol                        43\n",
              "Headlines Securities ISIN                        6756\n",
              "Headlines Securities Valoren                       86\n",
              "Headlines Securities Name                          43\n",
              "Headlines Securities Market                        43\n",
              "Headlines Securities MarketIdentificationCode      43\n",
              "Headlines Securities MostLiquidExchange             9\n",
              "Headlines Securities CategoryOrIndustry            43\n",
              "Headlines Title                                     0\n",
              "Headlines Date                                      0\n",
              "Headlines Time                                      0\n",
              "Headlines UTCOffset                                 0\n",
              "Headlines Source                                    0\n",
              "Headlines Url                                       0\n",
              "Headlines Images                                    4\n",
              "Headlines Tags TagType                              0\n",
              "Headlines Tags TagValues                           11\n",
              "Headlines PaywallType                               0\n",
              "Headlines Summary                                 519\n",
              "dtype: int64"
            ]
          },
          "metadata": {
            "tags": []
          },
          "execution_count": 85
        }
      ]
    },
    {
      "cell_type": "code",
      "metadata": {
        "colab": {
          "base_uri": "https://localhost:8080/"
        },
        "id": "IZSXkfhx9ZiF",
        "outputId": "9695a94b-3ebd-4f84-b6d0-d6d41cc3d412"
      },
      "source": [
        "total_cells = np.product(news.shape)\n",
        "total_missing = news.isna().sum()\n",
        "percent_missing = (total_missing/total_cells) * 100\n",
        "print(percent_missing)"
      ],
      "execution_count": 87,
      "outputs": [
        {
          "output_type": "stream",
          "text": [
            "Outcome                                          0.000000\n",
            "Message                                          4.000000\n",
            "Identity                                         0.000000\n",
            "Delay                                            0.000000\n",
            "Headlines Securities CIK                         0.142096\n",
            "Headlines Securities CUSIP                       4.000000\n",
            "Headlines Securities Symbol                      0.025459\n",
            "Headlines Securities ISIN                        4.000000\n",
            "Headlines Securities Valoren                     0.050918\n",
            "Headlines Securities Name                        0.025459\n",
            "Headlines Securities Market                      0.025459\n",
            "Headlines Securities MarketIdentificationCode    0.025459\n",
            "Headlines Securities MostLiquidExchange          0.005329\n",
            "Headlines Securities CategoryOrIndustry          0.025459\n",
            "Headlines Title                                  0.000000\n",
            "Headlines Date                                   0.000000\n",
            "Headlines Time                                   0.000000\n",
            "Headlines UTCOffset                              0.000000\n",
            "Headlines Source                                 0.000000\n",
            "Headlines Url                                    0.000000\n",
            "Headlines Images                                 0.002368\n",
            "Headlines Tags TagType                           0.000000\n",
            "Headlines Tags TagValues                         0.006513\n",
            "Headlines PaywallType                            0.000000\n",
            "Headlines Summary                                0.307282\n",
            "dtype: float64\n"
          ],
          "name": "stdout"
        }
      ]
    },
    {
      "cell_type": "code",
      "metadata": {
        "colab": {
          "base_uri": "https://localhost:8080/",
          "height": 102
        },
        "id": "9_xCjHIY-itS",
        "outputId": "2313fd81-352a-4565-9924-5b026889317c"
      },
      "source": [
        "news.dropna()"
      ],
      "execution_count": 89,
      "outputs": [
        {
          "output_type": "execute_result",
          "data": {
            "text/html": [
              "<div>\n",
              "<style scoped>\n",
              "    .dataframe tbody tr th:only-of-type {\n",
              "        vertical-align: middle;\n",
              "    }\n",
              "\n",
              "    .dataframe tbody tr th {\n",
              "        vertical-align: top;\n",
              "    }\n",
              "\n",
              "    .dataframe thead th {\n",
              "        text-align: right;\n",
              "    }\n",
              "</style>\n",
              "<table border=\"1\" class=\"dataframe\">\n",
              "  <thead>\n",
              "    <tr style=\"text-align: right;\">\n",
              "      <th></th>\n",
              "      <th>Outcome</th>\n",
              "      <th>Message</th>\n",
              "      <th>Identity</th>\n",
              "      <th>Delay</th>\n",
              "      <th>Headlines Securities CIK</th>\n",
              "      <th>Headlines Securities CUSIP</th>\n",
              "      <th>Headlines Securities Symbol</th>\n",
              "      <th>Headlines Securities ISIN</th>\n",
              "      <th>Headlines Securities Valoren</th>\n",
              "      <th>Headlines Securities Name</th>\n",
              "      <th>Headlines Securities Market</th>\n",
              "      <th>Headlines Securities MarketIdentificationCode</th>\n",
              "      <th>Headlines Securities MostLiquidExchange</th>\n",
              "      <th>Headlines Securities CategoryOrIndustry</th>\n",
              "      <th>Headlines Title</th>\n",
              "      <th>Headlines Date</th>\n",
              "      <th>Headlines Time</th>\n",
              "      <th>Headlines UTCOffset</th>\n",
              "      <th>Headlines Source</th>\n",
              "      <th>Headlines Url</th>\n",
              "      <th>Headlines Images</th>\n",
              "      <th>Headlines Tags TagType</th>\n",
              "      <th>Headlines Tags TagValues</th>\n",
              "      <th>Headlines PaywallType</th>\n",
              "      <th>Headlines Summary</th>\n",
              "    </tr>\n",
              "  </thead>\n",
              "  <tbody>\n",
              "  </tbody>\n",
              "</table>\n",
              "</div>"
            ],
            "text/plain": [
              "Empty DataFrame\n",
              "Columns: [Outcome, Message, Identity, Delay, Headlines Securities CIK, Headlines Securities CUSIP, Headlines Securities Symbol, Headlines Securities ISIN, Headlines Securities Valoren, Headlines Securities Name, Headlines Securities Market, Headlines Securities MarketIdentificationCode, Headlines Securities MostLiquidExchange, Headlines Securities CategoryOrIndustry, Headlines Title, Headlines Date, Headlines Time, Headlines UTCOffset, Headlines Source, Headlines Url, Headlines Images, Headlines Tags TagType, Headlines Tags TagValues, Headlines PaywallType, Headlines Summary]\n",
              "Index: []"
            ]
          },
          "metadata": {
            "tags": []
          },
          "execution_count": 89
        }
      ]
    },
    {
      "cell_type": "code",
      "metadata": {
        "colab": {
          "base_uri": "https://localhost:8080/",
          "height": 304
        },
        "id": "ueuq9YJd_Ao3",
        "outputId": "6c5a5c6f-817d-4946-814b-b93e126b38d3"
      },
      "source": [
        "columns_with_na_dropped = news.dropna(axis=1)\n",
        "columns_with_na_dropped.head()"
      ],
      "execution_count": 90,
      "outputs": [
        {
          "output_type": "execute_result",
          "data": {
            "text/html": [
              "<div>\n",
              "<style scoped>\n",
              "    .dataframe tbody tr th:only-of-type {\n",
              "        vertical-align: middle;\n",
              "    }\n",
              "\n",
              "    .dataframe tbody tr th {\n",
              "        vertical-align: top;\n",
              "    }\n",
              "\n",
              "    .dataframe thead th {\n",
              "        text-align: right;\n",
              "    }\n",
              "</style>\n",
              "<table border=\"1\" class=\"dataframe\">\n",
              "  <thead>\n",
              "    <tr style=\"text-align: right;\">\n",
              "      <th></th>\n",
              "      <th>Outcome</th>\n",
              "      <th>Identity</th>\n",
              "      <th>Delay</th>\n",
              "      <th>Headlines Title</th>\n",
              "      <th>Headlines Date</th>\n",
              "      <th>Headlines Time</th>\n",
              "      <th>Headlines UTCOffset</th>\n",
              "      <th>Headlines Source</th>\n",
              "      <th>Headlines Url</th>\n",
              "      <th>Headlines Tags TagType</th>\n",
              "      <th>Headlines PaywallType</th>\n",
              "    </tr>\n",
              "  </thead>\n",
              "  <tbody>\n",
              "    <tr>\n",
              "      <th>0</th>\n",
              "      <td>Success</td>\n",
              "      <td>Request</td>\n",
              "      <td>0.511007</td>\n",
              "      <td>Ex-commodities chairman Timothy Massad calls f...</td>\n",
              "      <td>6/9/2021</td>\n",
              "      <td>11:56 PM</td>\n",
              "      <td>0</td>\n",
              "      <td>CNBC MAD Money Recap</td>\n",
              "      <td>https://www.cnbc.com/2021/06/09/ex-cftc-chairm...</td>\n",
              "      <td>Symbols</td>\n",
              "      <td>None</td>\n",
              "    </tr>\n",
              "    <tr>\n",
              "      <th>1</th>\n",
              "      <td>Success</td>\n",
              "      <td>Request</td>\n",
              "      <td>0.511007</td>\n",
              "      <td>Ex-commodities chairman Timothy Massad calls f...</td>\n",
              "      <td>6/9/2021</td>\n",
              "      <td>11:56 PM</td>\n",
              "      <td>0</td>\n",
              "      <td>CNBC MAD Money Recap</td>\n",
              "      <td>https://www.cnbc.com/2021/06/09/ex-cftc-chairm...</td>\n",
              "      <td>Companies</td>\n",
              "      <td>None</td>\n",
              "    </tr>\n",
              "    <tr>\n",
              "      <th>2</th>\n",
              "      <td>Success</td>\n",
              "      <td>Request</td>\n",
              "      <td>0.511007</td>\n",
              "      <td>Ex-commodities chairman Timothy Massad calls f...</td>\n",
              "      <td>6/9/2021</td>\n",
              "      <td>11:56 PM</td>\n",
              "      <td>0</td>\n",
              "      <td>CNBC MAD Money Recap</td>\n",
              "      <td>https://www.cnbc.com/2021/06/09/ex-cftc-chairm...</td>\n",
              "      <td>Sectors</td>\n",
              "      <td>None</td>\n",
              "    </tr>\n",
              "    <tr>\n",
              "      <th>3</th>\n",
              "      <td>Success</td>\n",
              "      <td>Request</td>\n",
              "      <td>0.511007</td>\n",
              "      <td>Ex-commodities chairman Timothy Massad calls f...</td>\n",
              "      <td>6/9/2021</td>\n",
              "      <td>11:56 PM</td>\n",
              "      <td>0</td>\n",
              "      <td>CNBC MAD Money Recap</td>\n",
              "      <td>https://www.cnbc.com/2021/06/09/ex-cftc-chairm...</td>\n",
              "      <td>Topics</td>\n",
              "      <td>None</td>\n",
              "    </tr>\n",
              "    <tr>\n",
              "      <th>4</th>\n",
              "      <td>Success</td>\n",
              "      <td>Request</td>\n",
              "      <td>0.511007</td>\n",
              "      <td>GBP/USD sellers attack 1.4100 amid Brexit dold...</td>\n",
              "      <td>6/9/2021</td>\n",
              "      <td>11:56 PM</td>\n",
              "      <td>0</td>\n",
              "      <td>FXStreet News</td>\n",
              "      <td>https://www.fxstreet.com/news/gbp-usd-sellers-...</td>\n",
              "      <td>Topics</td>\n",
              "      <td>None</td>\n",
              "    </tr>\n",
              "  </tbody>\n",
              "</table>\n",
              "</div>"
            ],
            "text/plain": [
              "   Outcome Identity  ...  Headlines Tags TagType Headlines PaywallType\n",
              "0  Success  Request  ...                 Symbols                  None\n",
              "1  Success  Request  ...               Companies                  None\n",
              "2  Success  Request  ...                 Sectors                  None\n",
              "3  Success  Request  ...                  Topics                  None\n",
              "4  Success  Request  ...                  Topics                  None\n",
              "\n",
              "[5 rows x 11 columns]"
            ]
          },
          "metadata": {
            "tags": []
          },
          "execution_count": 90
        }
      ]
    },
    {
      "cell_type": "code",
      "metadata": {
        "colab": {
          "base_uri": "https://localhost:8080/"
        },
        "id": "xNiIegsj_jbc",
        "outputId": "2983173d-d8bd-4a3c-e57b-acdb634b3eee"
      },
      "source": [
        "news_with_na_dropped = news.dropna(axis=1)\n",
        "cols_in_original_dataset = news.shape[1]\n",
        "cols_in_na_dropped= news_with_na_dropped.shape[1]\n",
        "print(\"Columns in original dataset: %d \\n\" % news.shape[1])\n",
        "print(\"Columns with na's dropped: %d\" % news_with_na_dropped.shape[1])\n",
        "\n",
        "dropped_columns = cols_in_original_dataset - cols_in_na_dropped\n",
        "print(dropped_columns)"
      ],
      "execution_count": 91,
      "outputs": [
        {
          "output_type": "stream",
          "text": [
            "Columns in original dataset: 25 \n",
            "\n",
            "Columns with na's dropped: 11\n",
            "14\n"
          ],
          "name": "stdout"
        }
      ]
    },
    {
      "cell_type": "code",
      "metadata": {
        "id": "xiDdx97_Awk_"
      },
      "source": [
        "news_with_na_imputed = news.fillna(method='bfill', axis=0).head()\n"
      ],
      "execution_count": null,
      "outputs": []
    },
    {
      "cell_type": "code",
      "metadata": {
        "colab": {
          "base_uri": "https://localhost:8080/"
        },
        "id": "_cqoRX0hAzv0",
        "outputId": "22f3c428-d1a2-4312-f6df-00018178413e"
      },
      "source": [
        "import re\n",
        "import nltk\n",
        "nltk.download('stopwords')\n",
        "from nltk.corpus import stopwords\n",
        "from nltk.stem.porter import PorterStemmer"
      ],
      "execution_count": 92,
      "outputs": [
        {
          "output_type": "stream",
          "text": [
            "[nltk_data] Downloading package stopwords to /root/nltk_data...\n",
            "[nltk_data]   Unzipping corpora/stopwords.zip.\n"
          ],
          "name": "stdout"
        }
      ]
    },
    {
      "cell_type": "code",
      "metadata": {
        "id": "sm3QwmIcA650"
      },
      "source": [
        "corpus = []\n",
        "# Data = pd.read_csv('gethistoricalmarketheadlines_20210610163519.csv')\n",
        "for i in range(0, 6756):\n",
        "    review = re.sub('[^a-zA-Z]', ' ', columns_with_na_dropped['Headlines Title'][i])\n",
        "    review = review.lower()\n",
        "    review = review.split()\n",
        "    ps = PorterStemmer()\n",
        "    review = [ps.stem(word) for word in review if not word in set(stopwords.words('english'))]\n",
        "    review = ' '.join(review)\n",
        "    corpus.append(review)"
      ],
      "execution_count": 98,
      "outputs": []
    },
    {
      "cell_type": "code",
      "metadata": {
        "colab": {
          "base_uri": "https://localhost:8080/"
        },
        "id": "jXA2a5HnBcGa",
        "outputId": "fa91db8c-8aca-4440-ed32-0980c6e70997"
      },
      "source": [
        "len(corpus)"
      ],
      "execution_count": 99,
      "outputs": [
        {
          "output_type": "execute_result",
          "data": {
            "text/plain": [
              "6756"
            ]
          },
          "metadata": {
            "tags": []
          },
          "execution_count": 99
        }
      ]
    },
    {
      "cell_type": "code",
      "metadata": {
        "id": "_oWw4yufBoBn"
      },
      "source": [
        "from sklearn.feature_extraction.text import CountVectorizer\n",
        "cv = CountVectorizer(max_features = 5000)\n",
        "x = cv.fit_transform(corpus).toarray()\n",
        "y = news.iloc[0:43942, 0].values"
      ],
      "execution_count": 101,
      "outputs": []
    },
    {
      "cell_type": "code",
      "metadata": {
        "id": "puC1Ap4oBwtP"
      },
      "source": [
        "from sklearn.model_selection import train_test_split\n",
        "x_train, x_test, y_train, y_test = train_test_split(x, y, test_size = 0.20, random_state = 0)"
      ],
      "execution_count": 103,
      "outputs": []
    }
  ]
}